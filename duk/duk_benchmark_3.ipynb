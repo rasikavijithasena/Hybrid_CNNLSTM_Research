{
 "cells": [
  {
   "cell_type": "code",
   "execution_count": 1,
   "metadata": {},
   "outputs": [],
   "source": [
    "import pandas as pd\n",
    "import numpy as np\n",
    "# Load local .csv file as DataFrame\n",
    "df = pd.read_csv('duk_merge.csv')\n",
    "# Inspect the data\n",
    "\n",
    "df['Date'] = df['Datetime'].str[:-6]\n",
    "df['Date']=pd.to_datetime(df[\"Date\"]).dt.strftime(\"%Y-%m-%d %H:%M:%S\")\n",
    "\n",
    "data_date = df.filter(['Date'])\n",
    "\n",
    "data_date = data_date.values\n",
    "# Get the number of rows to train the model on\n",
    "training_data_date = int(np.ceil( len(data_date) * .95 ))\n",
    "\n",
    "from sklearn.preprocessing import MinMaxScaler\n",
    "\n",
    "#scaler1 = MinMaxScaler(feature_range=(0,1))\n",
    "#scaled_data1 = scaler1.fit_transform(data_date)\n",
    "# Create the training data set \n",
    "# Create the scaled training data set\n",
    "train_data_date = data_date[0:int(training_data_date), :]\n",
    "\n",
    "# Create a new dataframe with only the 'Close column \n",
    "data = df.filter(['Close'])\n",
    "# Convert the dataframe to a numpy array\n",
    "dataset = data.values\n",
    "# Get the number of rows to train the model on\n",
    "training_data_len = int(np.ceil( len(dataset) * .95 ))"
   ]
  },
  {
   "cell_type": "code",
   "execution_count": 2,
   "metadata": {},
   "outputs": [
    {
     "name": "stdout",
     "output_type": "stream",
     "text": [
      "[array([0.8928294 , 0.8928294 , 0.89795971, 0.90195009, 0.9022354 ,\n",
      "       0.90537073, 0.90594047, 0.91050104, 0.91449142, 0.91107121,\n",
      "       0.90822075, 0.90822075, 0.90708083, 0.90366063, 0.89910007,\n",
      "       0.90081017, 0.89852989, 0.89624961, 0.89197435, 0.88952315,\n",
      "       0.88541881, 0.88997894, 0.89151247, 0.89339958, 0.89339958,\n",
      "       0.89217398, 0.89311427, 0.89510968, 0.89795971, 0.89567943,\n",
      "       0.8945395 , 0.89852989, 0.89852989, 0.90708083, 0.90594047,\n",
      "       0.90822075, 0.90822075, 0.90651065, 0.91449142, 0.9133515 ,\n",
      "       0.9167717 , 0.91734188, 0.91563178, 0.91449142, 0.91676605,\n",
      "       0.91449142, 0.91734188, 0.91962216, 0.9201919 , 0.92104739,\n",
      "       0.91563178, 0.92190244, 0.92589282, 0.92475247, 0.92133226,\n",
      "       0.92304236, 0.92304236, 0.92703275, 0.92475247, 0.92760293])]\n",
      "[0.9287428488421146]\n",
      "\n",
      "[array([0.8928294 , 0.8928294 , 0.89795971, 0.90195009, 0.9022354 ,\n",
      "       0.90537073, 0.90594047, 0.91050104, 0.91449142, 0.91107121,\n",
      "       0.90822075, 0.90822075, 0.90708083, 0.90366063, 0.89910007,\n",
      "       0.90081017, 0.89852989, 0.89624961, 0.89197435, 0.88952315,\n",
      "       0.88541881, 0.88997894, 0.89151247, 0.89339958, 0.89339958,\n",
      "       0.89217398, 0.89311427, 0.89510968, 0.89795971, 0.89567943,\n",
      "       0.8945395 , 0.89852989, 0.89852989, 0.90708083, 0.90594047,\n",
      "       0.90822075, 0.90822075, 0.90651065, 0.91449142, 0.9133515 ,\n",
      "       0.9167717 , 0.91734188, 0.91563178, 0.91449142, 0.91676605,\n",
      "       0.91449142, 0.91734188, 0.91962216, 0.9201919 , 0.92104739,\n",
      "       0.91563178, 0.92190244, 0.92589282, 0.92475247, 0.92133226,\n",
      "       0.92304236, 0.92304236, 0.92703275, 0.92475247, 0.92760293]), array([0.8928294 , 0.89795971, 0.90195009, 0.9022354 , 0.90537073,\n",
      "       0.90594047, 0.91050104, 0.91449142, 0.91107121, 0.90822075,\n",
      "       0.90822075, 0.90708083, 0.90366063, 0.89910007, 0.90081017,\n",
      "       0.89852989, 0.89624961, 0.89197435, 0.88952315, 0.88541881,\n",
      "       0.88997894, 0.89151247, 0.89339958, 0.89339958, 0.89217398,\n",
      "       0.89311427, 0.89510968, 0.89795971, 0.89567943, 0.8945395 ,\n",
      "       0.89852989, 0.89852989, 0.90708083, 0.90594047, 0.90822075,\n",
      "       0.90822075, 0.90651065, 0.91449142, 0.9133515 , 0.9167717 ,\n",
      "       0.91734188, 0.91563178, 0.91449142, 0.91676605, 0.91449142,\n",
      "       0.91734188, 0.91962216, 0.9201919 , 0.92104739, 0.91563178,\n",
      "       0.92190244, 0.92589282, 0.92475247, 0.92133226, 0.92304236,\n",
      "       0.92304236, 0.92703275, 0.92475247, 0.92760293, 0.92874285])]\n",
      "[0.9287428488421146, 0.9236125427199324]\n",
      "\n"
     ]
    }
   ],
   "source": [
    "from sklearn.preprocessing import MinMaxScaler\n",
    "\n",
    "scaler = MinMaxScaler(feature_range=(0,1))\n",
    "scaled_data = scaler.fit_transform(dataset)\n",
    "# Create the training data set \n",
    "# Create the scaled training data set\n",
    "train_data = scaled_data[0:int(training_data_len), :]\n",
    "# Split the data into x_train and y_train data sets\n",
    "x_train = []\n",
    "y_train = []\n",
    "\n",
    "for i in range(60, len(train_data)):\n",
    "    x_train.append(train_data[i-60:i, 0])\n",
    "    y_train.append(train_data[i, 0])\n",
    "    if i<= 61:\n",
    "        print(x_train)\n",
    "        print(y_train)\n",
    "        print()\n",
    "        \n",
    "# Convert the x_train and y_train to numpy arrays \n",
    "x_train, y_train = np.array(x_train), np.array(y_train)\n",
    "\n",
    "# Reshape the data\n",
    "x_train = np.reshape(x_train, (x_train.shape[0], x_train.shape[1], 1))"
   ]
  },
  {
   "cell_type": "code",
   "execution_count": 24,
   "metadata": {},
   "outputs": [
    {
     "name": "stdout",
     "output_type": "stream",
     "text": [
      "Epoch 1/8\n",
      "104/104 [==============================] - 4s 15ms/step - loss: 0.0484\n",
      "Epoch 2/8\n",
      "104/104 [==============================] - 2s 21ms/step - loss: 6.0452e-04\n",
      "Epoch 3/8\n",
      "104/104 [==============================] - 3s 28ms/step - loss: 5.4339e-04\n",
      "Epoch 4/8\n",
      "104/104 [==============================] - 3s 33ms/step - loss: 4.9103e-04\n",
      "Epoch 5/8\n",
      "104/104 [==============================] - 4s 39ms/step - loss: 4.2341e-04\n",
      "Epoch 6/8\n",
      "104/104 [==============================] - 3s 24ms/step - loss: 3.9751e-04\n",
      "Epoch 7/8\n",
      "104/104 [==============================] - 3s 24ms/step - loss: 3.4478e-04\n",
      "Epoch 8/8\n",
      "104/104 [==============================] - 3s 26ms/step - loss: 3.0460e-04\n"
     ]
    },
    {
     "data": {
      "text/plain": [
       "<keras.callbacks.History at 0x19466bfbcd0>"
      ]
     },
     "execution_count": 24,
     "metadata": {},
     "output_type": "execute_result"
    }
   ],
   "source": [
    "#cnn-lstm\n",
    "\n",
    "from keras.models import Sequential\n",
    "from keras.layers import Dense, LSTM, Dropout\n",
    "from keras.layers import Flatten\n",
    "from keras.layers.convolutional import Conv1D\n",
    "from keras.layers.convolutional import MaxPooling1D\n",
    "import tensorflow as tf\n",
    "from numpy import array\n",
    "\n",
    "# Build the LSTM model\n",
    "model = Sequential()\n",
    "model.add(Conv1D(filters=32, kernel_size=1, activation='tanh', input_shape= (x_train.shape[1], 1)))\n",
    "model.add(MaxPooling1D(pool_size=2))\n",
    "model.add(LSTM(64, return_sequences=True, activation='tanh' ))\n",
    "model.add(Flatten())\n",
    "model.add(Dense(1, activation='relu'))\n",
    "adam = tf.keras.optimizers.Adam(learning_rate=0.001)\n",
    "\n",
    "# Compile the model\n",
    "model.compile(optimizer=adam, loss='mean_squared_error')\n",
    "\n",
    "# Train the model\n",
    "model.fit(x_train, y_train, batch_size=64, epochs=8)\n"
   ]
  },
  {
   "cell_type": "code",
   "execution_count": 25,
   "metadata": {},
   "outputs": [
    {
     "data": {
      "text/plain": [
       "0.22461899149563727"
      ]
     },
     "execution_count": 25,
     "metadata": {},
     "output_type": "execute_result"
    }
   ],
   "source": [
    "test_data = scaled_data[training_data_len - 60: , :]\n",
    "# Create the data sets x_test and y_test\n",
    "x_test = []\n",
    "y_test = dataset[training_data_len:, :]\n",
    "for i in range(60, len(test_data)):\n",
    "    x_test.append(test_data[i-60:i, 0])\n",
    "    \n",
    "# Convert the data to a numpy array\n",
    "x_test = np.array(x_test)\n",
    "\n",
    "# Reshape the data\n",
    "x_test = np.reshape(x_test, (x_test.shape[0], x_test.shape[1], 1 ))\n",
    "\n",
    "# Get the models predicted price values \n",
    "predictions3 = model.predict(x_test)\n",
    "predictions3 = scaler.inverse_transform(predictions3)\n",
    "\n",
    "# Get the root mean squared error (RMSE)\n",
    "rmse = np.sqrt(np.mean(((predictions3 - y_test) ** 2)))\n",
    "rmse"
   ]
  },
  {
   "cell_type": "code",
   "execution_count": 26,
   "metadata": {},
   "outputs": [
    {
     "name": "stderr",
     "output_type": "stream",
     "text": [
      "<ipython-input-26-cda6690b5d4b>:7: SettingWithCopyWarning: \n",
      "A value is trying to be set on a copy of a slice from a DataFrame.\n",
      "Try using .loc[row_indexer,col_indexer] = value instead\n",
      "\n",
      "See the caveats in the documentation: https://pandas.pydata.org/pandas-docs/stable/user_guide/indexing.html#returning-a-view-versus-a-copy\n",
      "  valid_3['Predictions3'] = predictions3\n"
     ]
    },
    {
     "data": {
      "text/plain": [
       "0.1751235007758877"
      ]
     },
     "execution_count": 26,
     "metadata": {},
     "output_type": "execute_result"
    }
   ],
   "source": [
    "def mape(actual, pred): \n",
    "    actual, pred = np.array(actual), np.array(pred)\n",
    "    return np.mean(np.abs((actual - pred) / actual)) * 100\n",
    "\n",
    "train = data[:training_data_len]\n",
    "valid_3 = data[training_data_len:]\n",
    "valid_3['Predictions3'] = predictions3\n",
    "\n",
    "mape(valid_3['Close'], valid_3['Predictions3'])"
   ]
  },
  {
   "cell_type": "code",
   "execution_count": null,
   "metadata": {},
   "outputs": [],
   "source": [
    "model.summary()"
   ]
  },
  {
   "cell_type": "code",
   "execution_count": 6,
   "metadata": {},
   "outputs": [
    {
     "data": {
      "image/png": "[encoded data removed]",
      "text/plain": [
       "<Figure size 1152x432 with 1 Axes>"
      ]
     },
     "metadata": {
      "needs_background": "light"
     },
     "output_type": "display_data"
    }
   ],
   "source": [
    "import matplotlib.pyplot as plt\n",
    "plt.figure(figsize=(16,6))\n",
    "plt.title('Predicted Model - Google')\n",
    "plt.xlabel('Index', fontsize=18)\n",
    "plt.ylabel('Close Price ($)', fontsize=18)\n",
    "#plt.plot(train['Close'], 'b-', label = 'train')\n",
    "plt.plot(predictions3,'r-', label = 'predict')\n",
    "plt.plot(y_test,'b-', label = 'actual')\n",
    "#plt.legend(['Train', 'Val', 'Predictions'], loc='lower right')\n",
    "plt.show()"
   ]
  },
  {
   "cell_type": "code",
   "execution_count": 25,
   "metadata": {},
   "outputs": [],
   "source": [
    "close_data = df['Close'].values\n",
    "close_data = close_data.reshape((-1,1))\n",
    "\n",
    "split_percent = 0.95\n",
    "split = int(split_percent*len(close_data))\n",
    "\n",
    "close_train = close_data[:split]\n",
    "close_test = close_data[split:]\n",
    "\n",
    "date_train = df['Datetime'][:split]\n",
    "date_test = df['Datetime'][split:]"
   ]
  },
  {
   "cell_type": "code",
   "execution_count": 26,
   "metadata": {},
   "outputs": [],
   "source": [
    "close_data = y_train\n",
    "look_back = 60\n",
    "\n",
    "#actual_values=[168.9600067, 169.0899963,169.5090027,169.5800018,169.3999939,169.329895] #aapl\n",
    "#actual_values=[3075.899902, 3076.699951,3073.120117,3070.409912,3083.659912,3076.98999] #amazon\n",
    "actual_values=[2702.300049, 2700.939941,2700.860107,2700.850098, 2699.070068, 2700.959961]\n",
    "\n",
    "def predict(num_prediction, model):\n",
    "    prediction_list = close_data[-look_back:]\n",
    "    \n",
    "    for _ in range(num_prediction):\n",
    "        x = prediction_list[-look_back:]\n",
    "        x = x.reshape((1, look_back, 1))\n",
    "        out = model.predict(x)[0][0]\n",
    "        prediction_list = np.append(prediction_list, out)\n",
    "    prediction_list = prediction_list[look_back-1:]\n",
    "        \n",
    "    return prediction_list\n",
    "    \n",
    "def predict_dates(num_prediction):\n",
    "    #last_date = df['Datetime'].values[-1]\n",
    "    last_date = date_train.values[-1]\n",
    "    prediction_dates = pd.date_range(last_date, freq=\"min\", periods=num_prediction+1).tolist()\n",
    "    return prediction_dates"
   ]
  },
  {
   "cell_type": "code",
   "execution_count": 27,
   "metadata": {},
   "outputs": [
    {
     "data": {
      "text/plain": [
       "array([[2702.300049  ],\n",
       "       [2700.36964263],\n",
       "       [2699.79343189],\n",
       "       [2699.26243508],\n",
       "       [2698.82774409],\n",
       "       [2698.39676549]])"
      ]
     },
     "execution_count": 27,
     "metadata": {},
     "output_type": "execute_result"
    }
   ],
   "source": [
    "num_prediction = 5\n",
    "#forecast = predict(num_prediction, model)\n",
    "forecast_dates = predict_dates(num_prediction)\n",
    "\n",
    "\n",
    "forecast = predict(num_prediction, model)\n",
    "reshape_forecast = np.reshape(forecast,(forecast.shape[0],1))\n",
    "\n",
    "result = scaler.inverse_transform(reshape_forecast)\n",
    "result"
   ]
  },
  {
   "cell_type": "code",
   "execution_count": 28,
   "metadata": {},
   "outputs": [
    {
     "data": {
      "text/plain": [
       "0.059906221167033875"
      ]
     },
     "execution_count": 28,
     "metadata": {},
     "output_type": "execute_result"
    }
   ],
   "source": [
    "mape(actual_values,result)"
   ]
  },
  {
   "cell_type": "code",
   "execution_count": 29,
   "metadata": {},
   "outputs": [
    {
     "data": {
      "text/plain": [
       "1.8763220806405696"
      ]
     },
     "execution_count": 29,
     "metadata": {},
     "output_type": "execute_result"
    }
   ],
   "source": [
    "rmse = np.sqrt(np.mean(((result - actual_values) ** 2)))\n",
    "rmse"
   ]
  },
  {
   "cell_type": "code",
   "execution_count": 23,
   "metadata": {},
   "outputs": [],
   "source": [
    "#cnn"
   ]
  },
  {
   "cell_type": "code",
   "execution_count": 5,
   "metadata": {},
   "outputs": [
    {
     "name": "stdout",
     "output_type": "stream",
     "text": [
      "Epoch 1/8\n",
      "791/791 [==============================] - 4s 5ms/step - loss: 0.0016\n",
      "Epoch 2/8\n",
      "791/791 [==============================] - 4s 5ms/step - loss: 2.5638e-04\n",
      "Epoch 3/8\n",
      "791/791 [==============================] - 4s 5ms/step - loss: 2.2187e-04\n",
      "Epoch 4/8\n",
      "791/791 [==============================] - 4s 5ms/step - loss: 2.0091e-04\n",
      "Epoch 5/8\n",
      "791/791 [==============================] - 4s 5ms/step - loss: 1.7719e-04\n",
      "Epoch 6/8\n",
      "791/791 [==============================] - 4s 5ms/step - loss: 1.4928e-04\n",
      "Epoch 7/8\n",
      "791/791 [==============================] - 4s 5ms/step - loss: 1.6424e-04\n",
      "Epoch 8/8\n",
      "791/791 [==============================] - 4s 5ms/step - loss: 1.3190e-04\n"
     ]
    },
    {
     "data": {
      "text/plain": [
       "<keras.callbacks.History at 0x2bd59c20790>"
      ]
     },
     "execution_count": 5,
     "metadata": {},
     "output_type": "execute_result"
    }
   ],
   "source": [
    "from numpy import array\n",
    "from keras.models import Sequential\n",
    "from keras.layers import Dense\n",
    "from keras.layers import Flatten\n",
    "from keras.layers.convolutional import Conv1D\n",
    "from keras.layers.convolutional import MaxPooling1D\n",
    "\n",
    "model2 = Sequential()\n",
    "model2.add(Conv1D(filters=64, kernel_size=2, activation='relu', input_shape= (x_train.shape[1], 1)))\n",
    "model2.add(MaxPooling1D(pool_size=2))\n",
    "model2.add(Flatten())\n",
    "model2.add(Dense(100, activation='relu'))\n",
    "model2.add(Dense(1))\n",
    "model2.compile(optimizer='adam', loss='mse')\n",
    "# Train the model\n",
    "model2.fit(x_train, y_train, batch_size=16, epochs=8)"
   ]
  },
  {
   "cell_type": "code",
   "execution_count": 6,
   "metadata": {},
   "outputs": [
    {
     "data": {
      "text/plain": [
       "0.4300468384989541"
      ]
     },
     "execution_count": 6,
     "metadata": {},
     "output_type": "execute_result"
    }
   ],
   "source": [
    "test_data = scaled_data[training_data_len - 90: , :]\n",
    "# Create the data sets x_test and y_test\n",
    "x_test = []\n",
    "y_test = dataset[training_data_len:, :]\n",
    "for i in range(90, len(test_data)):\n",
    "    x_test.append(test_data[i-90:i, 0])\n",
    "    \n",
    "# Convert the data to a numpy array\n",
    "x_test = np.array(x_test)\n",
    "\n",
    "# Reshape the data\n",
    "x_test = np.reshape(x_test, (x_test.shape[0], x_test.shape[1], 1 ))\n",
    "\n",
    "# Get the models predicted price values \n",
    "predictions2 = model2.predict(x_test)\n",
    "predictions2 = scaler.inverse_transform(predictions2)\n",
    "\n",
    "# Get the root mean squared error (RMSE)\n",
    "rmse_2 = np.sqrt(np.mean(((predictions2 - y_test) ** 2)))\n",
    "rmse_2"
   ]
  },
  {
   "cell_type": "code",
   "execution_count": 17,
   "metadata": {},
   "outputs": [
    {
     "name": "stderr",
     "output_type": "stream",
     "text": [
      "<ipython-input-17-f46f1df8d4ee>:3: SettingWithCopyWarning: \n",
      "A value is trying to be set on a copy of a slice from a DataFrame.\n",
      "Try using .loc[row_indexer,col_indexer] = value instead\n",
      "\n",
      "See the caveats in the documentation: https://pandas.pydata.org/pandas-docs/stable/user_guide/indexing.html#returning-a-view-versus-a-copy\n",
      "  valid_2['Predictions2'] = predictions2\n"
     ]
    },
    {
     "data": {
      "text/plain": [
       "0.17970459191200158"
      ]
     },
     "execution_count": 17,
     "metadata": {},
     "output_type": "execute_result"
    }
   ],
   "source": [
    "train = data[:training_data_len]\n",
    "valid_2 = data[training_data_len:]\n",
    "valid_2['Predictions2'] = predictions2\n",
    "\n",
    "mape(valid_2['Close'], valid_2['Predictions2'])"
   ]
  },
  {
   "cell_type": "code",
   "execution_count": 18,
   "metadata": {},
   "outputs": [
    {
     "data": {
      "image/png": "[encoded data removed]",
      "text/plain": [
       "<Figure size 1152x432 with 1 Axes>"
      ]
     },
     "metadata": {
      "needs_background": "light"
     },
     "output_type": "display_data"
    }
   ],
   "source": [
    "import matplotlib.pyplot as plt\n",
    "plt.figure(figsize=(16,6))\n",
    "plt.title('Predicted Model - Google')\n",
    "plt.xlabel('Index', fontsize=18)\n",
    "plt.ylabel('Close Price ($)', fontsize=18)\n",
    "#plt.plot(train['Close'], 'b-', label = 'train')\n",
    "plt.plot(predictions2,'r-', label = 'predict')\n",
    "plt.plot(y_test,'b-', label = 'actual')\n",
    "#plt.legend(['Train', 'Val', 'Predictions'], loc='lower right')\n",
    "plt.show()"
   ]
  },
  {
   "cell_type": "code",
   "execution_count": 19,
   "metadata": {},
   "outputs": [
    {
     "data": {
      "text/plain": [
       "array([[171.4450073 ],\n",
       "       [171.6635565 ],\n",
       "       [171.67319743],\n",
       "       [171.7796804 ],\n",
       "       [171.84246304],\n",
       "       [171.89846567]])"
      ]
     },
     "execution_count": 19,
     "metadata": {},
     "output_type": "execute_result"
    }
   ],
   "source": [
    "num_prediction = 5\n",
    "#forecast = predict(num_prediction, model)\n",
    "forecast_dates = predict_dates(num_prediction)\n",
    "\n",
    "\n",
    "forecast_cnn = predict(num_prediction, model2)\n",
    "reshape_forecast_cnn = np.reshape(forecast_cnn,(forecast_cnn.shape[0],1))\n",
    "\n",
    "result_cnn = scaler.inverse_transform(reshape_forecast_cnn)\n",
    "result_cnn"
   ]
  },
  {
   "cell_type": "code",
   "execution_count": 20,
   "metadata": {},
   "outputs": [
    {
     "data": {
      "text/plain": [
       "0.23520972218096597"
      ]
     },
     "execution_count": 20,
     "metadata": {},
     "output_type": "execute_result"
    }
   ],
   "source": [
    "mape(actual_values,result_cnn)"
   ]
  },
  {
   "cell_type": "code",
   "execution_count": 21,
   "metadata": {},
   "outputs": [
    {
     "data": {
      "text/plain": [
       "0.43638740893289757"
      ]
     },
     "execution_count": 21,
     "metadata": {},
     "output_type": "execute_result"
    }
   ],
   "source": [
    "rmse_cnn = np.sqrt(np.mean(((result_cnn - actual_values) ** 2)))\n",
    "rmse_cnn"
   ]
  },
  {
   "cell_type": "code",
   "execution_count": null,
   "metadata": {},
   "outputs": [],
   "source": []
  }
 ],
 "metadata": {
  "kernelspec": {
   "display_name": "Python 3",
   "language": "python",
   "name": "python3"
  },
  "language_info": {
   "codemirror_mode": {
    "name": "ipython",
    "version": 3
   },
   "file_extension": ".py",
   "mimetype": "text/x-python",
   "name": "python",
   "nbconvert_exporter": "python",
   "pygments_lexer": "ipython3",
   "version": "3.8.5"
  }
 },
 "nbformat": 4,
 "nbformat_minor": 4
}
