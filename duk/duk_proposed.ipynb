{
 "cells": [
  {
   "cell_type": "code",
   "execution_count": 1,
   "metadata": {},
   "outputs": [
    {
     "data": {
      "text/html": [
       "<div>\n",
       "<style scoped>\n",
       "    .dataframe tbody tr th:only-of-type {\n",
       "        vertical-align: middle;\n",
       "    }\n",
       "\n",
       "    .dataframe tbody tr th {\n",
       "        vertical-align: top;\n",
       "    }\n",
       "\n",
       "    .dataframe thead th {\n",
       "        text-align: right;\n",
       "    }\n",
       "</style>\n",
       "<table border=\"1\" class=\"dataframe\">\n",
       "  <thead>\n",
       "    <tr style=\"text-align: right;\">\n",
       "      <th></th>\n",
       "      <th>Datetime</th>\n",
       "      <th>Open</th>\n",
       "      <th>High</th>\n",
       "      <th>Low</th>\n",
       "      <th>Close</th>\n",
       "      <th>Adj Close</th>\n",
       "      <th>Volume</th>\n",
       "    </tr>\n",
       "  </thead>\n",
       "  <tbody>\n",
       "    <tr>\n",
       "      <th>0</th>\n",
       "      <td>2022-05-24 14:30:00-04:00</td>\n",
       "      <td>112.519997</td>\n",
       "      <td>112.580002</td>\n",
       "      <td>112.519997</td>\n",
       "      <td>112.540001</td>\n",
       "      <td>112.540001</td>\n",
       "      <td>0</td>\n",
       "    </tr>\n",
       "    <tr>\n",
       "      <th>1</th>\n",
       "      <td>2022-05-24 14:31:00-04:00</td>\n",
       "      <td>112.529999</td>\n",
       "      <td>112.550003</td>\n",
       "      <td>112.489998</td>\n",
       "      <td>112.540001</td>\n",
       "      <td>112.540001</td>\n",
       "      <td>4641</td>\n",
       "    </tr>\n",
       "    <tr>\n",
       "      <th>2</th>\n",
       "      <td>2022-05-24 14:32:00-04:00</td>\n",
       "      <td>112.580002</td>\n",
       "      <td>112.629997</td>\n",
       "      <td>112.580002</td>\n",
       "      <td>112.629997</td>\n",
       "      <td>112.629997</td>\n",
       "      <td>2117</td>\n",
       "    </tr>\n",
       "    <tr>\n",
       "      <th>3</th>\n",
       "      <td>2022-05-24 14:33:00-04:00</td>\n",
       "      <td>112.660004</td>\n",
       "      <td>112.699997</td>\n",
       "      <td>112.639999</td>\n",
       "      <td>112.699997</td>\n",
       "      <td>112.699997</td>\n",
       "      <td>1875</td>\n",
       "    </tr>\n",
       "    <tr>\n",
       "      <th>4</th>\n",
       "      <td>2022-05-24 14:34:00-04:00</td>\n",
       "      <td>112.690002</td>\n",
       "      <td>112.709999</td>\n",
       "      <td>112.680000</td>\n",
       "      <td>112.705002</td>\n",
       "      <td>112.705002</td>\n",
       "      <td>3357</td>\n",
       "    </tr>\n",
       "  </tbody>\n",
       "</table>\n",
       "</div>"
      ],
      "text/plain": [
       "                    Datetime        Open        High         Low       Close  \\\n",
       "0  2022-05-24 14:30:00-04:00  112.519997  112.580002  112.519997  112.540001   \n",
       "1  2022-05-24 14:31:00-04:00  112.529999  112.550003  112.489998  112.540001   \n",
       "2  2022-05-24 14:32:00-04:00  112.580002  112.629997  112.580002  112.629997   \n",
       "3  2022-05-24 14:33:00-04:00  112.660004  112.699997  112.639999  112.699997   \n",
       "4  2022-05-24 14:34:00-04:00  112.690002  112.709999  112.680000  112.705002   \n",
       "\n",
       "    Adj Close  Volume  \n",
       "0  112.540001       0  \n",
       "1  112.540001    4641  \n",
       "2  112.629997    2117  \n",
       "3  112.699997    1875  \n",
       "4  112.705002    3357  "
      ]
     },
     "execution_count": 1,
     "metadata": {},
     "output_type": "execute_result"
    }
   ],
   "source": [
    "import pandas as pd\n",
    "import numpy as np\n",
    "# Load local .csv file as DataFrame\n",
    "df = pd.read_csv('duk_merge.csv')\n",
    "# Inspect the data\n",
    "df.head()"
   ]
  },
  {
   "cell_type": "code",
   "execution_count": 2,
   "metadata": {},
   "outputs": [],
   "source": [
    "df['Date'] = df['Datetime'].str[:-6]\n",
    "df['Date']=pd.to_datetime(df[\"Date\"]).dt.strftime(\"%Y-%m-%d %H:%M:%S\")\n",
    "\n",
    "data_date = df.filter(['Date'])\n",
    "\n",
    "data_date = data_date.values\n",
    "# Get the number of rows to train the model on\n",
    "training_data_date = int(np.ceil( len(data_date) * .95 ))\n",
    "\n",
    "from sklearn.preprocessing import MinMaxScaler\n",
    "\n",
    "#scaler1 = MinMaxScaler(feature_range=(0,1))\n",
    "#scaled_data1 = scaler1.fit_transform(data_date)\n",
    "# Create the training data set \n",
    "# Create the scaled training data set\n",
    "train_data_date = data_date[0:int(training_data_date), :]"
   ]
  },
  {
   "cell_type": "code",
   "execution_count": 3,
   "metadata": {},
   "outputs": [],
   "source": [
    "# Create a new dataframe with only the 'Close column \n",
    "data = df.filter(['Close'])\n",
    "# Convert the dataframe to a numpy array\n",
    "dataset = data.values\n",
    "# Get the number of rows to train the model on\n",
    "training_data_len = int(np.ceil( len(dataset) * .95 ))\n",
    "\n"
   ]
  },
  {
   "cell_type": "code",
   "execution_count": 4,
   "metadata": {},
   "outputs": [
    {
     "name": "stdout",
     "output_type": "stream",
     "text": [
      "[array([0.8928294 , 0.8928294 , 0.89795971, 0.90195009, 0.9022354 ,\n",
      "       0.90537073, 0.90594047, 0.91050104, 0.91449142, 0.91107121,\n",
      "       0.90822075, 0.90822075, 0.90708083, 0.90366063, 0.89910007,\n",
      "       0.90081017, 0.89852989, 0.89624961, 0.89197435, 0.88952315,\n",
      "       0.88541881, 0.88997894, 0.89151247, 0.89339958, 0.89339958,\n",
      "       0.89217398, 0.89311427, 0.89510968, 0.89795971, 0.89567943,\n",
      "       0.8945395 , 0.89852989, 0.89852989, 0.90708083, 0.90594047,\n",
      "       0.90822075, 0.90822075, 0.90651065, 0.91449142, 0.9133515 ,\n",
      "       0.9167717 , 0.91734188, 0.91563178, 0.91449142, 0.91676605,\n",
      "       0.91449142, 0.91734188, 0.91962216, 0.9201919 , 0.92104739,\n",
      "       0.91563178, 0.92190244, 0.92589282, 0.92475247, 0.92133226,\n",
      "       0.92304236, 0.92304236, 0.92703275, 0.92475247, 0.92760293])]\n",
      "[0.9287428488421146]\n",
      "\n",
      "[array([0.8928294 , 0.8928294 , 0.89795971, 0.90195009, 0.9022354 ,\n",
      "       0.90537073, 0.90594047, 0.91050104, 0.91449142, 0.91107121,\n",
      "       0.90822075, 0.90822075, 0.90708083, 0.90366063, 0.89910007,\n",
      "       0.90081017, 0.89852989, 0.89624961, 0.89197435, 0.88952315,\n",
      "       0.88541881, 0.88997894, 0.89151247, 0.89339958, 0.89339958,\n",
      "       0.89217398, 0.89311427, 0.89510968, 0.89795971, 0.89567943,\n",
      "       0.8945395 , 0.89852989, 0.89852989, 0.90708083, 0.90594047,\n",
      "       0.90822075, 0.90822075, 0.90651065, 0.91449142, 0.9133515 ,\n",
      "       0.9167717 , 0.91734188, 0.91563178, 0.91449142, 0.91676605,\n",
      "       0.91449142, 0.91734188, 0.91962216, 0.9201919 , 0.92104739,\n",
      "       0.91563178, 0.92190244, 0.92589282, 0.92475247, 0.92133226,\n",
      "       0.92304236, 0.92304236, 0.92703275, 0.92475247, 0.92760293]), array([0.8928294 , 0.89795971, 0.90195009, 0.9022354 , 0.90537073,\n",
      "       0.90594047, 0.91050104, 0.91449142, 0.91107121, 0.90822075,\n",
      "       0.90822075, 0.90708083, 0.90366063, 0.89910007, 0.90081017,\n",
      "       0.89852989, 0.89624961, 0.89197435, 0.88952315, 0.88541881,\n",
      "       0.88997894, 0.89151247, 0.89339958, 0.89339958, 0.89217398,\n",
      "       0.89311427, 0.89510968, 0.89795971, 0.89567943, 0.8945395 ,\n",
      "       0.89852989, 0.89852989, 0.90708083, 0.90594047, 0.90822075,\n",
      "       0.90822075, 0.90651065, 0.91449142, 0.9133515 , 0.9167717 ,\n",
      "       0.91734188, 0.91563178, 0.91449142, 0.91676605, 0.91449142,\n",
      "       0.91734188, 0.91962216, 0.9201919 , 0.92104739, 0.91563178,\n",
      "       0.92190244, 0.92589282, 0.92475247, 0.92133226, 0.92304236,\n",
      "       0.92304236, 0.92703275, 0.92475247, 0.92760293, 0.92874285])]\n",
      "[0.9287428488421146, 0.9236125427199324]\n",
      "\n"
     ]
    }
   ],
   "source": [
    "from sklearn.preprocessing import MinMaxScaler\n",
    "\n",
    "scaler = MinMaxScaler(feature_range=(0,1))\n",
    "scaled_data = scaler.fit_transform(dataset)\n",
    "# Create the training data set \n",
    "# Create the scaled training data set\n",
    "train_data = scaled_data[0:int(training_data_len), :]\n",
    "# Split the data into x_train and y_train data sets\n",
    "x_train = []\n",
    "y_train = []\n",
    "\n",
    "for i in range(60, len(train_data)):\n",
    "    x_train.append(train_data[i-60:i, 0])\n",
    "    y_train.append(train_data[i, 0])\n",
    "    if i<= 61:\n",
    "        print(x_train)\n",
    "        print(y_train)\n",
    "        print()\n",
    "        \n",
    "# Convert the x_train and y_train to numpy arrays \n",
    "x_train, y_train = np.array(x_train), np.array(y_train)\n",
    "\n",
    "# Reshape the data\n",
    "x_train = np.reshape(x_train, (x_train.shape[0], x_train.shape[1], 1))\n",
    "# x_train.shape"
   ]
  },
  {
   "cell_type": "code",
   "execution_count": 12,
   "metadata": {},
   "outputs": [
    {
     "name": "stdout",
     "output_type": "stream",
     "text": [
      "Epoch 1/8\n",
      "413/413 [==============================] - 37s 73ms/step - loss: 0.0054\n",
      "Epoch 2/8\n",
      "413/413 [==============================] - 28s 68ms/step - loss: 7.1473e-04\n",
      "Epoch 3/8\n",
      "413/413 [==============================] - 28s 69ms/step - loss: 6.0595e-04\n",
      "Epoch 4/8\n",
      "413/413 [==============================] - 25s 60ms/step - loss: 4.2141e-04\n",
      "Epoch 5/8\n",
      "413/413 [==============================] - 25s 60ms/step - loss: 4.2250e-04\n",
      "Epoch 6/8\n",
      "413/413 [==============================] - 33s 79ms/step - loss: 3.7179e-04\n",
      "Epoch 7/8\n",
      "413/413 [==============================] - 37s 90ms/step - loss: 2.5384e-04\n",
      "Epoch 8/8\n",
      "413/413 [==============================] - 34s 83ms/step - loss: 2.4189e-04\n"
     ]
    },
    {
     "data": {
      "text/plain": [
       "<keras.callbacks.History at 0x20e471ea730>"
      ]
     },
     "execution_count": 12,
     "metadata": {},
     "output_type": "execute_result"
    }
   ],
   "source": [
    "from keras.models import Sequential\n",
    "from keras.layers import Dense, LSTM, Dropout\n",
    "from keras.layers import Flatten\n",
    "from keras.layers.convolutional import Conv1D\n",
    "from keras.layers.convolutional import MaxPooling1D\n",
    "from numpy import array\n",
    "\n",
    "# Build the LSTM model\n",
    "model = Sequential()\n",
    "model.add(Conv1D(filters=128, kernel_size=2, activation='relu', input_shape= (x_train.shape[1], 1)))\n",
    "model.add(MaxPooling1D(pool_size=2))\n",
    "model.add(LSTM(128, return_sequences=True, activation='relu' ))\n",
    "model.add(LSTM(64, return_sequences=True, activation='relu' ))\n",
    "model.add(LSTM(32, return_sequences=True))\n",
    "model.add(Flatten())\n",
    "model.add(Dense(100, activation='relu'))\n",
    "model.add(Dense(1))\n",
    "\n",
    "# Compile the model\n",
    "model.compile(optimizer='adam', loss='mean_squared_error')\n",
    "\n",
    "# Train the model\n",
    "model.fit(x_train, y_train, batch_size=16, epochs=8)"
   ]
  },
  {
   "cell_type": "code",
   "execution_count": 13,
   "metadata": {},
   "outputs": [
    {
     "data": {
      "text/plain": [
       "0.26765787801303287"
      ]
     },
     "execution_count": 13,
     "metadata": {},
     "output_type": "execute_result"
    }
   ],
   "source": [
    "test_data = scaled_data[training_data_len - 60: , :]\n",
    "# Create the data sets x_test and y_test\n",
    "x_test = []\n",
    "y_test = dataset[training_data_len:, :]\n",
    "for i in range(60, len(test_data)):\n",
    "    x_test.append(test_data[i-60:i, 0])\n",
    "    \n",
    "# Convert the data to a numpy array\n",
    "x_test = np.array(x_test)\n",
    "\n",
    "# Reshape the data\n",
    "x_test = np.reshape(x_test, (x_test.shape[0], x_test.shape[1], 1 ))\n",
    "\n",
    "# Get the models predicted price values \n",
    "predictions3 = model.predict(x_test)\n",
    "predictions3 = scaler.inverse_transform(predictions3)\n",
    "\n",
    "# Get the root mean squared error (RMSE)\n",
    "rmse = np.sqrt(np.mean(((predictions3 - y_test) ** 2)))\n",
    "rmse"
   ]
  },
  {
   "cell_type": "code",
   "execution_count": 14,
   "metadata": {},
   "outputs": [
    {
     "name": "stderr",
     "output_type": "stream",
     "text": [
      "<ipython-input-14-cda6690b5d4b>:7: SettingWithCopyWarning: \n",
      "A value is trying to be set on a copy of a slice from a DataFrame.\n",
      "Try using .loc[row_indexer,col_indexer] = value instead\n",
      "\n",
      "See the caveats in the documentation: https://pandas.pydata.org/pandas-docs/stable/user_guide/indexing.html#returning-a-view-versus-a-copy\n",
      "  valid_3['Predictions3'] = predictions3\n"
     ]
    },
    {
     "data": {
      "text/plain": [
       "0.2293933552050122"
      ]
     },
     "execution_count": 14,
     "metadata": {},
     "output_type": "execute_result"
    }
   ],
   "source": [
    "def mape(actual, pred): \n",
    "    actual, pred = np.array(actual), np.array(pred)\n",
    "    return np.mean(np.abs((actual - pred) / actual)) * 100\n",
    "\n",
    "train = data[:training_data_len]\n",
    "valid_3 = data[training_data_len:]\n",
    "valid_3['Predictions3'] = predictions3\n",
    "\n",
    "mape(valid_3['Close'], valid_3['Predictions3'])"
   ]
  },
  {
   "cell_type": "code",
   "execution_count": 15,
   "metadata": {},
   "outputs": [
    {
     "data": {
      "text/plain": [
       "6654    98.136353\n",
       "6655    98.129189\n",
       "6656    98.112747\n",
       "6657    98.096138\n",
       "6658    98.066818\n",
       "          ...    \n",
       "6999    99.480705\n",
       "7000    99.489243\n",
       "7001    99.489616\n",
       "7002    99.490341\n",
       "7003    99.489357\n",
       "Name: Predictions3, Length: 350, dtype: float32"
      ]
     },
     "execution_count": 15,
     "metadata": {},
     "output_type": "execute_result"
    }
   ],
   "source": [
    "valid_3['Predictions3']"
   ]
  },
  {
   "cell_type": "code",
   "execution_count": null,
   "metadata": {},
   "outputs": [],
   "source": []
  },
  {
   "cell_type": "code",
   "execution_count": null,
   "metadata": {},
   "outputs": [],
   "source": []
  }
 ],
 "metadata": {
  "kernelspec": {
   "display_name": "Python 3",
   "language": "python",
   "name": "python3"
  },
  "language_info": {
   "codemirror_mode": {
    "name": "ipython",
    "version": 3
   },
   "file_extension": ".py",
   "mimetype": "text/x-python",
   "name": "python",
   "nbconvert_exporter": "python",
   "pygments_lexer": "ipython3",
   "version": "3.8.5"
  }
 },
 "nbformat": 4,
 "nbformat_minor": 4
}
