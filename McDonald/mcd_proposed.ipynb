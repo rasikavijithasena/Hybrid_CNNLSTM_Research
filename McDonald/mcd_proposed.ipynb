{
 "cells": [
  {
   "cell_type": "code",
   "execution_count": 1,
   "metadata": {},
   "outputs": [
    {
     "data": {
      "text/html": [
       "<div>\n",
       "<style scoped>\n",
       "    .dataframe tbody tr th:only-of-type {\n",
       "        vertical-align: middle;\n",
       "    }\n",
       "\n",
       "    .dataframe tbody tr th {\n",
       "        vertical-align: top;\n",
       "    }\n",
       "\n",
       "    .dataframe thead th {\n",
       "        text-align: right;\n",
       "    }\n",
       "</style>\n",
       "<table border=\"1\" class=\"dataframe\">\n",
       "  <thead>\n",
       "    <tr style=\"text-align: right;\">\n",
       "      <th></th>\n",
       "      <th>Datetime</th>\n",
       "      <th>Open</th>\n",
       "      <th>High</th>\n",
       "      <th>Low</th>\n",
       "      <th>Close</th>\n",
       "      <th>Adj Close</th>\n",
       "      <th>Volume</th>\n",
       "    </tr>\n",
       "  </thead>\n",
       "  <tbody>\n",
       "    <tr>\n",
       "      <th>0</th>\n",
       "      <td>2022-05-24 14:30:00-04:00</td>\n",
       "      <td>244.699997</td>\n",
       "      <td>244.809998</td>\n",
       "      <td>244.639999</td>\n",
       "      <td>244.699997</td>\n",
       "      <td>244.699997</td>\n",
       "      <td>0</td>\n",
       "    </tr>\n",
       "    <tr>\n",
       "      <th>1</th>\n",
       "      <td>2022-05-24 14:31:00-04:00</td>\n",
       "      <td>244.744995</td>\n",
       "      <td>244.744995</td>\n",
       "      <td>244.470001</td>\n",
       "      <td>244.690002</td>\n",
       "      <td>244.690002</td>\n",
       "      <td>7992</td>\n",
       "    </tr>\n",
       "    <tr>\n",
       "      <th>2</th>\n",
       "      <td>2022-05-24 14:32:00-04:00</td>\n",
       "      <td>244.740005</td>\n",
       "      <td>244.990005</td>\n",
       "      <td>244.660004</td>\n",
       "      <td>244.862000</td>\n",
       "      <td>244.862000</td>\n",
       "      <td>7028</td>\n",
       "    </tr>\n",
       "    <tr>\n",
       "      <th>3</th>\n",
       "      <td>2022-05-24 14:33:00-04:00</td>\n",
       "      <td>244.923706</td>\n",
       "      <td>245.070007</td>\n",
       "      <td>244.860001</td>\n",
       "      <td>245.035004</td>\n",
       "      <td>245.035004</td>\n",
       "      <td>5297</td>\n",
       "    </tr>\n",
       "    <tr>\n",
       "      <th>4</th>\n",
       "      <td>2022-05-24 14:34:00-04:00</td>\n",
       "      <td>245.050003</td>\n",
       "      <td>245.050003</td>\n",
       "      <td>244.850006</td>\n",
       "      <td>245.000000</td>\n",
       "      <td>245.000000</td>\n",
       "      <td>14413</td>\n",
       "    </tr>\n",
       "  </tbody>\n",
       "</table>\n",
       "</div>"
      ],
      "text/plain": [
       "                    Datetime        Open        High         Low       Close  \\\n",
       "0  2022-05-24 14:30:00-04:00  244.699997  244.809998  244.639999  244.699997   \n",
       "1  2022-05-24 14:31:00-04:00  244.744995  244.744995  244.470001  244.690002   \n",
       "2  2022-05-24 14:32:00-04:00  244.740005  244.990005  244.660004  244.862000   \n",
       "3  2022-05-24 14:33:00-04:00  244.923706  245.070007  244.860001  245.035004   \n",
       "4  2022-05-24 14:34:00-04:00  245.050003  245.050003  244.850006  245.000000   \n",
       "\n",
       "    Adj Close  Volume  \n",
       "0  244.699997       0  \n",
       "1  244.690002    7992  \n",
       "2  244.862000    7028  \n",
       "3  245.035004    5297  \n",
       "4  245.000000   14413  "
      ]
     },
     "execution_count": 1,
     "metadata": {},
     "output_type": "execute_result"
    }
   ],
   "source": [
    "import pandas as pd\n",
    "import numpy as np\n",
    "# Load local .csv file as DataFrame\n",
    "df = pd.read_csv('mcd_merge.csv')\n",
    "# Inspect the data\n",
    "df.head()"
   ]
  },
  {
   "cell_type": "code",
   "execution_count": 2,
   "metadata": {},
   "outputs": [],
   "source": [
    "df['Date'] = df['Datetime'].str[:-6]\n",
    "df['Date']=pd.to_datetime(df[\"Date\"]).dt.strftime(\"%Y-%m-%d %H:%M:%S\")\n",
    "\n",
    "data_date = df.filter(['Date'])\n",
    "\n",
    "data_date = data_date.values\n",
    "# Get the number of rows to train the model on\n",
    "training_data_date = int(np.ceil( len(data_date) * .95 ))\n",
    "\n",
    "from sklearn.preprocessing import MinMaxScaler\n",
    "\n",
    "train_data_date = data_date[0:int(training_data_date), :]"
   ]
  },
  {
   "cell_type": "code",
   "execution_count": 3,
   "metadata": {},
   "outputs": [],
   "source": [
    "# Create a new dataframe with only the 'Close column \n",
    "data = df.filter(['Close'])\n",
    "# Convert the dataframe to a numpy array\n",
    "dataset = data.values\n",
    "# Get the number of rows to train the model on\n",
    "training_data_len = int(np.ceil( len(dataset) * .95 ))\n",
    "\n"
   ]
  },
  {
   "cell_type": "code",
   "execution_count": 4,
   "metadata": {},
   "outputs": [
    {
     "name": "stdout",
     "output_type": "stream",
     "text": [
      "[array([0.56458207, 0.5641259 , 0.57197607, 0.57987219, 0.57827458,\n",
      "       0.57873074, 0.57416703, 0.57804615, 0.57599238, 0.57485163,\n",
      "       0.57188483, 0.56823345, 0.56663584, 0.55682314, 0.55408477,\n",
      "       0.55545395, 0.54815119, 0.54130528, 0.53263333, 0.5248744 ,\n",
      "       0.51939767, 0.52441824, 0.53035113, 0.53217717, 0.52898194,\n",
      "       0.52122302, 0.52692817, 0.53308949, 0.54404364, 0.54187565,\n",
      "       0.53354635, 0.55134641, 0.56047452, 0.57325401, 0.56640811,\n",
      "       0.57827458, 0.56366905, 0.5595615 , 0.5618437 , 0.56047452,\n",
      "       0.56672707, 0.56047452, 0.56321288, 0.56047452, 0.56093068,\n",
      "       0.56001836, 0.56275672, 0.56229986, 0.56376097, 0.55819232,\n",
      "       0.54952037, 0.55317175, 0.56344131, 0.56458207, 0.56229986,\n",
      "       0.55317175, 0.55088955, 0.55864918, 0.55499779, 0.56823345])]\n",
      "[0.5750793582256062]\n",
      "\n",
      "[array([0.56458207, 0.5641259 , 0.57197607, 0.57987219, 0.57827458,\n",
      "       0.57873074, 0.57416703, 0.57804615, 0.57599238, 0.57485163,\n",
      "       0.57188483, 0.56823345, 0.56663584, 0.55682314, 0.55408477,\n",
      "       0.55545395, 0.54815119, 0.54130528, 0.53263333, 0.5248744 ,\n",
      "       0.51939767, 0.52441824, 0.53035113, 0.53217717, 0.52898194,\n",
      "       0.52122302, 0.52692817, 0.53308949, 0.54404364, 0.54187565,\n",
      "       0.53354635, 0.55134641, 0.56047452, 0.57325401, 0.56640811,\n",
      "       0.57827458, 0.56366905, 0.5595615 , 0.5618437 , 0.56047452,\n",
      "       0.56672707, 0.56047452, 0.56321288, 0.56047452, 0.56093068,\n",
      "       0.56001836, 0.56275672, 0.56229986, 0.56376097, 0.55819232,\n",
      "       0.54952037, 0.55317175, 0.56344131, 0.56458207, 0.56229986,\n",
      "       0.55317175, 0.55088955, 0.55864918, 0.55499779, 0.56823345]), array([0.5641259 , 0.57197607, 0.57987219, 0.57827458, 0.57873074,\n",
      "       0.57416703, 0.57804615, 0.57599238, 0.57485163, 0.57188483,\n",
      "       0.56823345, 0.56663584, 0.55682314, 0.55408477, 0.55545395,\n",
      "       0.54815119, 0.54130528, 0.53263333, 0.5248744 , 0.51939767,\n",
      "       0.52441824, 0.53035113, 0.53217717, 0.52898194, 0.52122302,\n",
      "       0.52692817, 0.53308949, 0.54404364, 0.54187565, 0.53354635,\n",
      "       0.55134641, 0.56047452, 0.57325401, 0.56640811, 0.57827458,\n",
      "       0.56366905, 0.5595615 , 0.5618437 , 0.56047452, 0.56672707,\n",
      "       0.56047452, 0.56321288, 0.56047452, 0.56093068, 0.56001836,\n",
      "       0.56275672, 0.56229986, 0.56376097, 0.55819232, 0.54952037,\n",
      "       0.55317175, 0.56344131, 0.56458207, 0.56229986, 0.55317175,\n",
      "       0.55088955, 0.55864918, 0.55499779, 0.56823345, 0.57507936])]\n",
      "[0.5750793582256062, 0.5654950852918095]\n",
      "\n"
     ]
    }
   ],
   "source": [
    "from sklearn.preprocessing import MinMaxScaler\n",
    "\n",
    "scaler = MinMaxScaler(feature_range=(0,1))\n",
    "scaled_data = scaler.fit_transform(dataset)\n",
    "# Create the training data set \n",
    "# Create the scaled training data set\n",
    "\n",
    "#changes scaled_data to dataset\n",
    "train_data = scaled_data[0:int(training_data_len), :] \n",
    "# Split the data into x_train and y_train data sets\n",
    "x_train = []\n",
    "y_train = []\n",
    "\n",
    "for i in range(60, len(train_data)):\n",
    "    x_train.append(train_data[i-60:i, 0])\n",
    "    y_train.append(train_data[i, 0])\n",
    "    if i<= 61:\n",
    "        print(x_train)\n",
    "        print(y_train)\n",
    "        print()\n",
    "        \n",
    "# Convert the x_train and y_train to numpy arrays \n",
    "x_train, y_train = np.array(x_train), np.array(y_train)\n",
    "\n",
    "# Reshape the data\n",
    "x_train = np.reshape(x_train, (x_train.shape[0], x_train.shape[1], 1))\n",
    "# x_train.shape"
   ]
  },
  {
   "cell_type": "code",
   "execution_count": 5,
   "metadata": {},
   "outputs": [
    {
     "name": "stdout",
     "output_type": "stream",
     "text": [
      "Epoch 1/8\n",
      "413/413 [==============================] - 31s 61ms/step - loss: 0.0069\n",
      "Epoch 2/8\n",
      "413/413 [==============================] - 25s 60ms/step - loss: 0.0014\n",
      "Epoch 3/8\n",
      "413/413 [==============================] - 25s 62ms/step - loss: 0.0011\n",
      "Epoch 4/8\n",
      "413/413 [==============================] - 33s 80ms/step - loss: 6.8586e-04\n",
      "Epoch 5/8\n",
      "413/413 [==============================] - 37s 90ms/step - loss: 5.2858e-04\n",
      "Epoch 6/8\n",
      "413/413 [==============================] - 35s 84ms/step - loss: 3.9410e-04\n",
      "Epoch 7/8\n",
      "413/413 [==============================] - 48s 116ms/step - loss: 3.5722e-04\n",
      "Epoch 8/8\n",
      "413/413 [==============================] - 57s 139ms/step - loss: 2.9002e-04\n"
     ]
    },
    {
     "data": {
      "text/plain": [
       "<keras.callbacks.History at 0x17a8729b9a0>"
      ]
     },
     "execution_count": 5,
     "metadata": {},
     "output_type": "execute_result"
    }
   ],
   "source": [
    "from keras.models import Sequential\n",
    "from keras.layers import Dense, LSTM, Dropout\n",
    "from keras.layers import Flatten\n",
    "from keras.layers.convolutional import Conv1D\n",
    "from keras.layers.convolutional import MaxPooling1D\n",
    "from numpy import array\n",
    "\n",
    "# Build the LSTM model\n",
    "model = Sequential()\n",
    "model.add(Conv1D(filters=128, kernel_size=2, activation='relu', input_shape= (x_train.shape[1], 1)))\n",
    "model.add(MaxPooling1D(pool_size=2))\n",
    "model.add(LSTM(128, return_sequences=True, activation='relu' ))\n",
    "model.add(LSTM(64, return_sequences=True, activation='relu' ))\n",
    "model.add(LSTM(32, return_sequences=True))\n",
    "model.add(Flatten())\n",
    "model.add(Dense(100, activation='relu'))\n",
    "model.add(Dense(1))\n",
    "\n",
    "# Compile the model\n",
    "model.compile(optimizer='adam', loss='mse')\n",
    "\n",
    "# Train the model\n",
    "model.fit(x_train, y_train, batch_size=16, epochs=8)"
   ]
  },
  {
   "cell_type": "code",
   "execution_count": 6,
   "metadata": {},
   "outputs": [
    {
     "data": {
      "text/plain": [
       "0.2581844872778943"
      ]
     },
     "execution_count": 6,
     "metadata": {},
     "output_type": "execute_result"
    }
   ],
   "source": [
    "test_data = scaled_data[training_data_len - 60: , :]\n",
    "# Create the data sets x_test and y_test\n",
    "x_test = []\n",
    "y_test = dataset[training_data_len:, :]\n",
    "for i in range(60, len(test_data)):\n",
    "    x_test.append(test_data[i-60:i, 0])\n",
    "    \n",
    "# Convert the data to a numpy array\n",
    "x_test = np.array(x_test)\n",
    "\n",
    "# Reshape the data\n",
    "x_test = np.reshape(x_test, (x_test.shape[0], x_test.shape[1], 1 ))\n",
    "\n",
    "# Get the models predicted price values \n",
    "predictions3 = model.predict(x_test)\n",
    "predictions3 = scaler.inverse_transform(predictions3)\n",
    "\n",
    "# Get the root mean squared error (RMSE)\n",
    "rmse = np.sqrt(np.mean(((predictions3 - y_test) ** 2)))\n",
    "rmse"
   ]
  },
  {
   "cell_type": "code",
   "execution_count": 7,
   "metadata": {},
   "outputs": [
    {
     "name": "stderr",
     "output_type": "stream",
     "text": [
      "<ipython-input-7-cda6690b5d4b>:7: SettingWithCopyWarning: \n",
      "A value is trying to be set on a copy of a slice from a DataFrame.\n",
      "Try using .loc[row_indexer,col_indexer] = value instead\n",
      "\n",
      "See the caveats in the documentation: https://pandas.pydata.org/pandas-docs/stable/user_guide/indexing.html#returning-a-view-versus-a-copy\n",
      "  valid_3['Predictions3'] = predictions3\n"
     ]
    },
    {
     "data": {
      "text/plain": [
       "0.07781139976931763"
      ]
     },
     "execution_count": 7,
     "metadata": {},
     "output_type": "execute_result"
    }
   ],
   "source": [
    "def mape(actual, pred): \n",
    "    actual, pred = np.array(actual), np.array(pred)\n",
    "    return np.mean(np.abs((actual - pred) / actual)) * 100\n",
    "\n",
    "train = data[:training_data_len]\n",
    "valid_3 = data[training_data_len:]\n",
    "valid_3['Predictions3'] = predictions3\n",
    "\n",
    "mape(valid_3['Close'], valid_3['Predictions3'])"
   ]
  },
  {
   "cell_type": "code",
   "execution_count": 8,
   "metadata": {},
   "outputs": [
    {
     "name": "stdout",
     "output_type": "stream",
     "text": [
      "Model: \"sequential\"\n",
      "_________________________________________________________________\n",
      " Layer (type)                Output Shape              Param #   \n",
      "=================================================================\n",
      " conv1d (Conv1D)             (None, 59, 128)           384       \n",
      "                                                                 \n",
      " max_pooling1d (MaxPooling1D  (None, 29, 128)          0         \n",
      " )                                                               \n",
      "                                                                 \n",
      " lstm (LSTM)                 (None, 29, 128)           131584    \n",
      "                                                                 \n",
      " lstm_1 (LSTM)               (None, 29, 64)            49408     \n",
      "                                                                 \n",
      " lstm_2 (LSTM)               (None, 29, 32)            12416     \n",
      "                                                                 \n",
      " flatten (Flatten)           (None, 928)               0         \n",
      "                                                                 \n",
      " dense (Dense)               (None, 100)               92900     \n",
      "                                                                 \n",
      " dense_1 (Dense)             (None, 1)                 101       \n",
      "                                                                 \n",
      "=================================================================\n",
      "Total params: 286,793\n",
      "Trainable params: 286,793\n",
      "Non-trainable params: 0\n",
      "_________________________________________________________________\n"
     ]
    }
   ],
   "source": [
    "model.summary()"
   ]
  },
  {
   "cell_type": "code",
   "execution_count": null,
   "metadata": {},
   "outputs": [],
   "source": []
  },
  {
   "cell_type": "code",
   "execution_count": null,
   "metadata": {},
   "outputs": [],
   "source": []
  },
  {
   "cell_type": "code",
   "execution_count": null,
   "metadata": {},
   "outputs": [],
   "source": []
  },
  {
   "cell_type": "code",
   "execution_count": null,
   "metadata": {},
   "outputs": [],
   "source": []
  },
  {
   "cell_type": "code",
   "execution_count": null,
   "metadata": {},
   "outputs": [],
   "source": []
  },
  {
   "cell_type": "code",
   "execution_count": null,
   "metadata": {},
   "outputs": [],
   "source": []
  }
 ],
 "metadata": {
  "kernelspec": {
   "display_name": "Python 3",
   "language": "python",
   "name": "python3"
  },
  "language_info": {
   "codemirror_mode": {
    "name": "ipython",
    "version": 3
   },
   "file_extension": ".py",
   "mimetype": "text/x-python",
   "name": "python",
   "nbconvert_exporter": "python",
   "pygments_lexer": "ipython3",
   "version": "3.8.5"
  }
 },
 "nbformat": 4,
 "nbformat_minor": 4
}
