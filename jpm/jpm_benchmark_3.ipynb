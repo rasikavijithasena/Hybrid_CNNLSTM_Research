{
 "cells": [
  {
   "cell_type": "code",
   "execution_count": 1,
   "metadata": {},
   "outputs": [],
   "source": [
    "import pandas as pd\n",
    "import numpy as np\n",
    "# Load local .csv file as DataFrame\n",
    "df = pd.read_csv('jpm_merge.csv')\n",
    "# Inspect the data\n",
    "\n",
    "df['Date'] = df['Datetime'].str[:-6]\n",
    "df['Date']=pd.to_datetime(df[\"Date\"]).dt.strftime(\"%Y-%m-%d %H:%M:%S\")\n",
    "\n",
    "data_date = df.filter(['Date'])\n",
    "\n",
    "data_date = data_date.values\n",
    "# Get the number of rows to train the model on\n",
    "training_data_date = int(np.ceil( len(data_date) * .95 ))\n",
    "\n",
    "from sklearn.preprocessing import MinMaxScaler\n",
    "\n",
    "#scaler1 = MinMaxScaler(feature_range=(0,1))\n",
    "#scaled_data1 = scaler1.fit_transform(data_date)\n",
    "# Create the training data set \n",
    "# Create the scaled training data set\n",
    "train_data_date = data_date[0:int(training_data_date), :]\n",
    "\n",
    "# Create a new dataframe with only the 'Close column \n",
    "data = df.filter(['Close'])\n",
    "# Convert the dataframe to a numpy array\n",
    "dataset = data.values\n",
    "# Get the number of rows to train the model on\n",
    "training_data_len = int(np.ceil( len(dataset) * .95 ))"
   ]
  },
  {
   "cell_type": "code",
   "execution_count": 2,
   "metadata": {},
   "outputs": [
    {
     "name": "stdout",
     "output_type": "stream",
     "text": [
      "[array([0.66179225, 0.66037722, 0.66603772, 0.668396  , 0.67028283,\n",
      "       0.67043866, 0.6679242 , 0.67075463, 0.67594334, 0.68113204,\n",
      "       0.67264146, 0.66556592, 0.66509412, 0.65990542, 0.65566031,\n",
      "       0.65330167, 0.65518851, 0.65518851, 0.64858477, 0.64622613,\n",
      "       0.64292426, 0.64528289, 0.64103742, 0.64032991, 0.63920745,\n",
      "       0.63537728, 0.64009419, 0.64103742, 0.6443393 , 0.64528289,\n",
      "       0.64764153, 0.649528  , 0.649528  , 0.66061294, 0.65896218,\n",
      "       0.66650916, 0.66745276, 0.66320729, 0.66415089, 0.66367909,\n",
      "       0.67028283, 0.66651384, 0.66226405, 0.65693391, 0.65707534,\n",
      "       0.65518851, 0.66084901, 0.66084901, 0.66282546, 0.65943398,\n",
      "       0.649528  , 0.65613175, 0.66084901, 0.66603772, 0.6679242 ,\n",
      "       0.67071684, 0.68018845, 0.67920274, 0.67202823, 0.68018845])]\n",
      "[0.682075281234896]\n",
      "\n",
      "[array([0.66179225, 0.66037722, 0.66603772, 0.668396  , 0.67028283,\n",
      "       0.67043866, 0.6679242 , 0.67075463, 0.67594334, 0.68113204,\n",
      "       0.67264146, 0.66556592, 0.66509412, 0.65990542, 0.65566031,\n",
      "       0.65330167, 0.65518851, 0.65518851, 0.64858477, 0.64622613,\n",
      "       0.64292426, 0.64528289, 0.64103742, 0.64032991, 0.63920745,\n",
      "       0.63537728, 0.64009419, 0.64103742, 0.6443393 , 0.64528289,\n",
      "       0.64764153, 0.649528  , 0.649528  , 0.66061294, 0.65896218,\n",
      "       0.66650916, 0.66745276, 0.66320729, 0.66415089, 0.66367909,\n",
      "       0.67028283, 0.66651384, 0.66226405, 0.65693391, 0.65707534,\n",
      "       0.65518851, 0.66084901, 0.66084901, 0.66282546, 0.65943398,\n",
      "       0.649528  , 0.65613175, 0.66084901, 0.66603772, 0.6679242 ,\n",
      "       0.67071684, 0.68018845, 0.67920274, 0.67202823, 0.68018845]), array([0.66037722, 0.66603772, 0.668396  , 0.67028283, 0.67043866,\n",
      "       0.6679242 , 0.67075463, 0.67594334, 0.68113204, 0.67264146,\n",
      "       0.66556592, 0.66509412, 0.65990542, 0.65566031, 0.65330167,\n",
      "       0.65518851, 0.65518851, 0.64858477, 0.64622613, 0.64292426,\n",
      "       0.64528289, 0.64103742, 0.64032991, 0.63920745, 0.63537728,\n",
      "       0.64009419, 0.64103742, 0.6443393 , 0.64528289, 0.64764153,\n",
      "       0.649528  , 0.649528  , 0.66061294, 0.65896218, 0.66650916,\n",
      "       0.66745276, 0.66320729, 0.66415089, 0.66367909, 0.67028283,\n",
      "       0.66651384, 0.66226405, 0.65693391, 0.65707534, 0.65518851,\n",
      "       0.66084901, 0.66084901, 0.66282546, 0.65943398, 0.649528  ,\n",
      "       0.65613175, 0.66084901, 0.66603772, 0.6679242 , 0.67071684,\n",
      "       0.68018845, 0.67920274, 0.67202823, 0.68018845, 0.68207528])]\n",
      "[0.682075281234896, 0.6731129038584944]\n",
      "\n"
     ]
    }
   ],
   "source": [
    "from sklearn.preprocessing import MinMaxScaler\n",
    "\n",
    "scaler = MinMaxScaler(feature_range=(0,1))\n",
    "scaled_data = scaler.fit_transform(dataset)\n",
    "# Create the training data set \n",
    "# Create the scaled training data set\n",
    "train_data = scaled_data[0:int(training_data_len), :]\n",
    "# Split the data into x_train and y_train data sets\n",
    "x_train = []\n",
    "y_train = []\n",
    "\n",
    "for i in range(60, len(train_data)):\n",
    "    x_train.append(train_data[i-60:i, 0])\n",
    "    y_train.append(train_data[i, 0])\n",
    "    if i<= 61:\n",
    "        print(x_train)\n",
    "        print(y_train)\n",
    "        print()\n",
    "        \n",
    "# Convert the x_train and y_train to numpy arrays \n",
    "x_train, y_train = np.array(x_train), np.array(y_train)\n",
    "\n",
    "# Reshape the data\n",
    "x_train = np.reshape(x_train, (x_train.shape[0], x_train.shape[1], 1))"
   ]
  },
  {
   "cell_type": "code",
   "execution_count": 9,
   "metadata": {},
   "outputs": [
    {
     "name": "stdout",
     "output_type": "stream",
     "text": [
      "Epoch 1/8\n",
      "104/104 [==============================] - 7s 22ms/step - loss: 0.0137\n",
      "Epoch 2/8\n",
      "104/104 [==============================] - 4s 35ms/step - loss: 8.6453e-04\n",
      "Epoch 3/8\n",
      "104/104 [==============================] - 4s 34ms/step - loss: 7.6332e-04\n",
      "Epoch 4/8\n",
      "104/104 [==============================] - 4s 35ms/step - loss: 6.5811e-04\n",
      "Epoch 5/8\n",
      "104/104 [==============================] - 6s 53ms/step - loss: 5.4890e-04\n",
      "Epoch 6/8\n",
      "104/104 [==============================] - 5s 45ms/step - loss: 4.7210e-04\n",
      "Epoch 7/8\n",
      "104/104 [==============================] - 4s 35ms/step - loss: 3.9958e-04\n",
      "Epoch 8/8\n",
      "104/104 [==============================] - 4s 38ms/step - loss: 3.8703e-04\n",
      "Model: \"sequential_2\"\n",
      "_________________________________________________________________\n",
      " Layer (type)                Output Shape              Param #   \n",
      "=================================================================\n",
      " conv1d_2 (Conv1D)           (None, 60, 32)            64        \n",
      "                                                                 \n",
      " max_pooling1d_2 (MaxPooling  (None, 30, 32)           0         \n",
      " 1D)                                                             \n",
      "                                                                 \n",
      " lstm_2 (LSTM)               (None, 30, 64)            24832     \n",
      "                                                                 \n",
      " flatten_2 (Flatten)         (None, 1920)              0         \n",
      "                                                                 \n",
      " dense_2 (Dense)             (None, 1)                 1921      \n",
      "                                                                 \n",
      "=================================================================\n",
      "Total params: 26,817\n",
      "Trainable params: 26,817\n",
      "Non-trainable params: 0\n",
      "_________________________________________________________________\n"
     ]
    }
   ],
   "source": [
    "#cnn-lstm\n",
    "\n",
    "from keras.models import Sequential\n",
    "from keras.layers import Dense, LSTM, Dropout\n",
    "from keras.layers import Flatten\n",
    "from keras.layers.convolutional import Conv1D\n",
    "from keras.layers.convolutional import MaxPooling1D\n",
    "import tensorflow as tf\n",
    "from numpy import array\n",
    "\n",
    "# Build the LSTM model\n",
    "model = Sequential()\n",
    "model.add(Conv1D(filters=32, kernel_size=1, activation='tanh', input_shape= (x_train.shape[1], 1)))\n",
    "model.add(MaxPooling1D(pool_size=2))\n",
    "model.add(LSTM(64, return_sequences=True, activation='tanh' ))\n",
    "model.add(Flatten())\n",
    "model.add(Dense(1, activation='relu'))\n",
    "adam = tf.keras.optimizers.Adam(learning_rate=0.001)\n",
    "\n",
    "# Compile the model\n",
    "model.compile(optimizer=adam, loss='mean_squared_error')\n",
    "\n",
    "# Train the model\n",
    "model.fit(x_train, y_train, batch_size=64, epochs=8)\n",
    "model.summary()"
   ]
  },
  {
   "cell_type": "code",
   "execution_count": 10,
   "metadata": {},
   "outputs": [
    {
     "data": {
      "text/plain": [
       "0.6148420670730211"
      ]
     },
     "execution_count": 10,
     "metadata": {},
     "output_type": "execute_result"
    }
   ],
   "source": [
    "test_data = scaled_data[training_data_len - 60: , :]\n",
    "# Create the data sets x_test and y_test\n",
    "x_test = []\n",
    "y_test = dataset[training_data_len:, :]\n",
    "for i in range(60, len(test_data)):\n",
    "    x_test.append(test_data[i-60:i, 0])\n",
    "    \n",
    "# Convert the data to a numpy array\n",
    "x_test = np.array(x_test)\n",
    "\n",
    "# Reshape the data\n",
    "x_test = np.reshape(x_test, (x_test.shape[0], x_test.shape[1], 1 ))\n",
    "\n",
    "# Get the models predicted price values \n",
    "predictions3 = model.predict(x_test)\n",
    "predictions3 = scaler.inverse_transform(predictions3)\n",
    "\n",
    "# Get the root mean squared error (RMSE)\n",
    "rmse = np.sqrt(np.mean(((predictions3 - y_test) ** 2)))\n",
    "rmse"
   ]
  },
  {
   "cell_type": "code",
   "execution_count": 11,
   "metadata": {},
   "outputs": [
    {
     "name": "stderr",
     "output_type": "stream",
     "text": [
      "<ipython-input-11-cda6690b5d4b>:7: SettingWithCopyWarning: \n",
      "A value is trying to be set on a copy of a slice from a DataFrame.\n",
      "Try using .loc[row_indexer,col_indexer] = value instead\n",
      "\n",
      "See the caveats in the documentation: https://pandas.pydata.org/pandas-docs/stable/user_guide/indexing.html#returning-a-view-versus-a-copy\n",
      "  valid_3['Predictions3'] = predictions3\n"
     ]
    },
    {
     "data": {
      "text/plain": [
       "0.2812144310586791"
      ]
     },
     "execution_count": 11,
     "metadata": {},
     "output_type": "execute_result"
    }
   ],
   "source": [
    "def mape(actual, pred): \n",
    "    actual, pred = np.array(actual), np.array(pred)\n",
    "    return np.mean(np.abs((actual - pred) / actual)) * 100\n",
    "\n",
    "train = data[:training_data_len]\n",
    "valid_3 = data[training_data_len:]\n",
    "valid_3['Predictions3'] = predictions3\n",
    "\n",
    "mape(valid_3['Close'], valid_3['Predictions3'])"
   ]
  },
  {
   "cell_type": "code",
   "execution_count": 12,
   "metadata": {},
   "outputs": [
    {
     "data": {
      "image/png": "[encoded data removed]",
      "text/plain": [
       "<Figure size 1152x432 with 1 Axes>"
      ]
     },
     "metadata": {
      "needs_background": "light"
     },
     "output_type": "display_data"
    }
   ],
   "source": [
    "import matplotlib.pyplot as plt\n",
    "plt.figure(figsize=(16,6))\n",
    "plt.title('Predicted Model - Google')\n",
    "plt.xlabel('Index', fontsize=18)\n",
    "plt.ylabel('Close Price ($)', fontsize=18)\n",
    "#plt.plot(train['Close'], 'b-', label = 'train')\n",
    "plt.plot(predictions3,'r-', label = 'predict')\n",
    "plt.plot(y_test,'b-', label = 'actual')\n",
    "#plt.legend(['Train', 'Val', 'Predictions'], loc='lower right')\n",
    "plt.show()"
   ]
  },
  {
   "cell_type": "code",
   "execution_count": null,
   "metadata": {},
   "outputs": [],
   "source": []
  }
 ],
 "metadata": {
  "kernelspec": {
   "display_name": "Python 3",
   "language": "python",
   "name": "python3"
  },
  "language_info": {
   "codemirror_mode": {
    "name": "ipython",
    "version": 3
   },
   "file_extension": ".py",
   "mimetype": "text/x-python",
   "name": "python",
   "nbconvert_exporter": "python",
   "pygments_lexer": "ipython3",
   "version": "3.8.5"
  }
 },
 "nbformat": 4,
 "nbformat_minor": 4
}
