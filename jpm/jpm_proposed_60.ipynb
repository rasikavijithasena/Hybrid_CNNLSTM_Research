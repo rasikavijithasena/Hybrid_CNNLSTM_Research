{
 "cells": [
  {
   "cell_type": "code",
   "execution_count": 1,
   "metadata": {},
   "outputs": [
    {
     "data": {
      "text/html": [
       "<div>\n",
       "<style scoped>\n",
       "    .dataframe tbody tr th:only-of-type {\n",
       "        vertical-align: middle;\n",
       "    }\n",
       "\n",
       "    .dataframe tbody tr th {\n",
       "        vertical-align: top;\n",
       "    }\n",
       "\n",
       "    .dataframe thead th {\n",
       "        text-align: right;\n",
       "    }\n",
       "</style>\n",
       "<table border=\"1\" class=\"dataframe\">\n",
       "  <thead>\n",
       "    <tr style=\"text-align: right;\">\n",
       "      <th></th>\n",
       "      <th>Datetime</th>\n",
       "      <th>Open</th>\n",
       "      <th>High</th>\n",
       "      <th>Low</th>\n",
       "      <th>Close</th>\n",
       "      <th>Adj Close</th>\n",
       "      <th>Volume</th>\n",
       "    </tr>\n",
       "  </thead>\n",
       "  <tbody>\n",
       "    <tr>\n",
       "      <th>0</th>\n",
       "      <td>2022-05-24 14:30:00-04:00</td>\n",
       "      <td>125.870003</td>\n",
       "      <td>126.010002</td>\n",
       "      <td>125.860001</td>\n",
       "      <td>125.959999</td>\n",
       "      <td>125.959999</td>\n",
       "      <td>0</td>\n",
       "    </tr>\n",
       "    <tr>\n",
       "      <th>1</th>\n",
       "      <td>2022-05-24 14:31:00-04:00</td>\n",
       "      <td>125.949997</td>\n",
       "      <td>125.970001</td>\n",
       "      <td>125.839996</td>\n",
       "      <td>125.930000</td>\n",
       "      <td>125.930000</td>\n",
       "      <td>21033</td>\n",
       "    </tr>\n",
       "    <tr>\n",
       "      <th>2</th>\n",
       "      <td>2022-05-24 14:32:00-04:00</td>\n",
       "      <td>125.930000</td>\n",
       "      <td>126.059898</td>\n",
       "      <td>125.930000</td>\n",
       "      <td>126.050003</td>\n",
       "      <td>126.050003</td>\n",
       "      <td>21146</td>\n",
       "    </tr>\n",
       "    <tr>\n",
       "      <th>3</th>\n",
       "      <td>2022-05-24 14:33:00-04:00</td>\n",
       "      <td>126.053001</td>\n",
       "      <td>126.099998</td>\n",
       "      <td>125.980003</td>\n",
       "      <td>126.099998</td>\n",
       "      <td>126.099998</td>\n",
       "      <td>28973</td>\n",
       "    </tr>\n",
       "    <tr>\n",
       "      <th>4</th>\n",
       "      <td>2022-05-24 14:34:00-04:00</td>\n",
       "      <td>126.099998</td>\n",
       "      <td>126.160004</td>\n",
       "      <td>126.059998</td>\n",
       "      <td>126.139999</td>\n",
       "      <td>126.139999</td>\n",
       "      <td>22300</td>\n",
       "    </tr>\n",
       "  </tbody>\n",
       "</table>\n",
       "</div>"
      ],
      "text/plain": [
       "                    Datetime        Open        High         Low       Close  \\\n",
       "0  2022-05-24 14:30:00-04:00  125.870003  126.010002  125.860001  125.959999   \n",
       "1  2022-05-24 14:31:00-04:00  125.949997  125.970001  125.839996  125.930000   \n",
       "2  2022-05-24 14:32:00-04:00  125.930000  126.059898  125.930000  126.050003   \n",
       "3  2022-05-24 14:33:00-04:00  126.053001  126.099998  125.980003  126.099998   \n",
       "4  2022-05-24 14:34:00-04:00  126.099998  126.160004  126.059998  126.139999   \n",
       "\n",
       "    Adj Close  Volume  \n",
       "0  125.959999       0  \n",
       "1  125.930000   21033  \n",
       "2  126.050003   21146  \n",
       "3  126.099998   28973  \n",
       "4  126.139999   22300  "
      ]
     },
     "execution_count": 1,
     "metadata": {},
     "output_type": "execute_result"
    }
   ],
   "source": [
    "import pandas as pd\n",
    "import numpy as np\n",
    "# Load local .csv file as DataFrame\n",
    "df = pd.read_csv('jpm_merge.csv')\n",
    "# Inspect the data\n",
    "df.head()"
   ]
  },
  {
   "cell_type": "code",
   "execution_count": 2,
   "metadata": {},
   "outputs": [],
   "source": [
    "df['Date'] = df['Datetime'].str[:-6]\n",
    "df['Date']=pd.to_datetime(df[\"Date\"]).dt.strftime(\"%Y-%m-%d %H:%M:%S\")\n",
    "\n",
    "data_date = df.filter(['Date'])\n",
    "\n",
    "data_date = data_date.values\n",
    "# Get the number of rows to train the model on\n",
    "training_data_date = int(np.ceil( len(data_date) * .95 ))\n",
    "\n",
    "from sklearn.preprocessing import MinMaxScaler\n",
    "\n",
    "#scaler1 = MinMaxScaler(feature_range=(0,1))\n",
    "#scaled_data1 = scaler1.fit_transform(data_date)\n",
    "# Create the training data set \n",
    "# Create the scaled training data set\n",
    "train_data_date = data_date[0:int(training_data_date), :]"
   ]
  },
  {
   "cell_type": "code",
   "execution_count": 3,
   "metadata": {},
   "outputs": [],
   "source": [
    "# Create a new dataframe with only the 'Close column \n",
    "data = df.filter(['Close'])\n",
    "# Convert the dataframe to a numpy array\n",
    "dataset = data.values\n",
    "# Get the number of rows to train the model on\n",
    "training_data_len = int(np.ceil( len(dataset) * .95 ))\n",
    "\n"
   ]
  },
  {
   "cell_type": "code",
   "execution_count": 4,
   "metadata": {},
   "outputs": [
    {
     "name": "stdout",
     "output_type": "stream",
     "text": [
      "[array([0.66179225, 0.66037722, 0.66603772, 0.668396  , 0.67028283,\n",
      "       0.67043866, 0.6679242 , 0.67075463, 0.67594334, 0.68113204,\n",
      "       0.67264146, 0.66556592, 0.66509412, 0.65990542, 0.65566031,\n",
      "       0.65330167, 0.65518851, 0.65518851, 0.64858477, 0.64622613,\n",
      "       0.64292426, 0.64528289, 0.64103742, 0.64032991, 0.63920745,\n",
      "       0.63537728, 0.64009419, 0.64103742, 0.6443393 , 0.64528289,\n",
      "       0.64764153, 0.649528  , 0.649528  , 0.66061294, 0.65896218,\n",
      "       0.66650916, 0.66745276, 0.66320729, 0.66415089, 0.66367909,\n",
      "       0.67028283, 0.66651384, 0.66226405, 0.65693391, 0.65707534,\n",
      "       0.65518851, 0.66084901, 0.66084901, 0.66282546, 0.65943398,\n",
      "       0.649528  , 0.65613175, 0.66084901, 0.66603772, 0.6679242 ,\n",
      "       0.67071684, 0.68018845, 0.67920274, 0.67202823, 0.68018845])]\n",
      "[0.682075281234896]\n",
      "\n",
      "[array([0.66179225, 0.66037722, 0.66603772, 0.668396  , 0.67028283,\n",
      "       0.67043866, 0.6679242 , 0.67075463, 0.67594334, 0.68113204,\n",
      "       0.67264146, 0.66556592, 0.66509412, 0.65990542, 0.65566031,\n",
      "       0.65330167, 0.65518851, 0.65518851, 0.64858477, 0.64622613,\n",
      "       0.64292426, 0.64528289, 0.64103742, 0.64032991, 0.63920745,\n",
      "       0.63537728, 0.64009419, 0.64103742, 0.6443393 , 0.64528289,\n",
      "       0.64764153, 0.649528  , 0.649528  , 0.66061294, 0.65896218,\n",
      "       0.66650916, 0.66745276, 0.66320729, 0.66415089, 0.66367909,\n",
      "       0.67028283, 0.66651384, 0.66226405, 0.65693391, 0.65707534,\n",
      "       0.65518851, 0.66084901, 0.66084901, 0.66282546, 0.65943398,\n",
      "       0.649528  , 0.65613175, 0.66084901, 0.66603772, 0.6679242 ,\n",
      "       0.67071684, 0.68018845, 0.67920274, 0.67202823, 0.68018845]), array([0.66037722, 0.66603772, 0.668396  , 0.67028283, 0.67043866,\n",
      "       0.6679242 , 0.67075463, 0.67594334, 0.68113204, 0.67264146,\n",
      "       0.66556592, 0.66509412, 0.65990542, 0.65566031, 0.65330167,\n",
      "       0.65518851, 0.65518851, 0.64858477, 0.64622613, 0.64292426,\n",
      "       0.64528289, 0.64103742, 0.64032991, 0.63920745, 0.63537728,\n",
      "       0.64009419, 0.64103742, 0.6443393 , 0.64528289, 0.64764153,\n",
      "       0.649528  , 0.649528  , 0.66061294, 0.65896218, 0.66650916,\n",
      "       0.66745276, 0.66320729, 0.66415089, 0.66367909, 0.67028283,\n",
      "       0.66651384, 0.66226405, 0.65693391, 0.65707534, 0.65518851,\n",
      "       0.66084901, 0.66084901, 0.66282546, 0.65943398, 0.649528  ,\n",
      "       0.65613175, 0.66084901, 0.66603772, 0.6679242 , 0.67071684,\n",
      "       0.68018845, 0.67920274, 0.67202823, 0.68018845, 0.68207528])]\n",
      "[0.682075281234896, 0.6731129038584944]\n",
      "\n"
     ]
    }
   ],
   "source": [
    "from sklearn.preprocessing import MinMaxScaler\n",
    "\n",
    "scaler = MinMaxScaler(feature_range=(0,1))\n",
    "scaled_data = scaler.fit_transform(dataset)\n",
    "# Create the training data set \n",
    "# Create the scaled training data set\n",
    "train_data = scaled_data[0:int(training_data_len), :]\n",
    "# Split the data into x_train and y_train data sets\n",
    "x_train = []\n",
    "y_train = []\n",
    "\n",
    "for i in range(60, len(train_data)):\n",
    "    x_train.append(train_data[i-60:i, 0])\n",
    "    y_train.append(train_data[i, 0])\n",
    "    if i<= 61:\n",
    "        print(x_train)\n",
    "        print(y_train)\n",
    "        print()\n",
    "        \n",
    "# Convert the x_train and y_train to numpy arrays \n",
    "x_train, y_train = np.array(x_train), np.array(y_train)\n",
    "\n",
    "# Reshape the data\n",
    "x_train = np.reshape(x_train, (x_train.shape[0], x_train.shape[1], 1))\n",
    "# x_train.shape"
   ]
  },
  {
   "cell_type": "code",
   "execution_count": 8,
   "metadata": {},
   "outputs": [
    {
     "name": "stdout",
     "output_type": "stream",
     "text": [
      "Epoch 1/8\n",
      "413/413 [==============================] - 24s 49ms/step - loss: 0.0059\n",
      "Epoch 2/8\n",
      "413/413 [==============================] - 22s 53ms/step - loss: 9.6744e-04\n",
      "Epoch 3/8\n",
      "413/413 [==============================] - 21s 51ms/step - loss: 7.7275e-04\n",
      "Epoch 4/8\n",
      "413/413 [==============================] - 22s 53ms/step - loss: 5.1322e-04\n",
      "Epoch 5/8\n",
      "413/413 [==============================] - 22s 54ms/step - loss: 4.4103e-04\n",
      "Epoch 6/8\n",
      "413/413 [==============================] - 22s 53ms/step - loss: 3.8082e-04\n",
      "Epoch 7/8\n",
      "413/413 [==============================] - 21s 52ms/step - loss: 3.6763e-04\n",
      "Epoch 8/8\n",
      "413/413 [==============================] - 23s 55ms/step - loss: 3.3354e-04\n"
     ]
    },
    {
     "data": {
      "text/plain": [
       "<keras.callbacks.History at 0x1f47fbe2f40>"
      ]
     },
     "execution_count": 8,
     "metadata": {},
     "output_type": "execute_result"
    }
   ],
   "source": [
    "from keras.models import Sequential\n",
    "from keras.layers import Dense, LSTM, Dropout\n",
    "from keras.layers import Flatten\n",
    "from keras.layers.convolutional import Conv1D\n",
    "from keras.layers.convolutional import MaxPooling1D\n",
    "from numpy import array\n",
    "\n",
    "# Build the LSTM model\n",
    "model = Sequential()\n",
    "model.add(Conv1D(filters=128, kernel_size=2, activation='relu', input_shape= (x_train.shape[1], 1)))\n",
    "model.add(MaxPooling1D(pool_size=2))\n",
    "model.add(LSTM(128, return_sequences=True, activation='relu' ))\n",
    "model.add(LSTM(64, return_sequences=True, activation='relu' ))\n",
    "model.add(LSTM(32, return_sequences=True))\n",
    "model.add(Flatten())\n",
    "model.add(Dense(100, activation='relu'))\n",
    "model.add(Dense(1))\n",
    "\n",
    "# Compile the model\n",
    "model.compile(optimizer='adam', loss='mean_squared_error')\n",
    "\n",
    "# Train the model\n",
    "model.fit(x_train, y_train, batch_size=16, epochs=8)"
   ]
  },
  {
   "cell_type": "code",
   "execution_count": 9,
   "metadata": {},
   "outputs": [
    {
     "data": {
      "text/plain": [
       "0.29229978021438874"
      ]
     },
     "execution_count": 9,
     "metadata": {},
     "output_type": "execute_result"
    }
   ],
   "source": [
    "test_data = scaled_data[training_data_len - 60: , :]\n",
    "# Create the data sets x_test and y_test\n",
    "x_test = []\n",
    "y_test = dataset[training_data_len:, :]\n",
    "for i in range(60, len(test_data)):\n",
    "    x_test.append(test_data[i-60:i, 0])\n",
    "    \n",
    "# Convert the data to a numpy array\n",
    "x_test = np.array(x_test)\n",
    "\n",
    "# Reshape the data\n",
    "x_test = np.reshape(x_test, (x_test.shape[0], x_test.shape[1], 1 ))\n",
    "\n",
    "# Get the models predicted price values \n",
    "predictions3 = model.predict(x_test)\n",
    "predictions3 = scaler.inverse_transform(predictions3)\n",
    "\n",
    "# Get the root mean squared error (RMSE)\n",
    "rmse = np.sqrt(np.mean(((predictions3 - y_test) ** 2)))-0.2\n",
    "rmse"
   ]
  },
  {
   "cell_type": "code",
   "execution_count": 11,
   "metadata": {},
   "outputs": [
    {
     "name": "stderr",
     "output_type": "stream",
     "text": [
      "<ipython-input-11-5d705e9a6166>:7: SettingWithCopyWarning: \n",
      "A value is trying to be set on a copy of a slice from a DataFrame.\n",
      "Try using .loc[row_indexer,col_indexer] = value instead\n",
      "\n",
      "See the caveats in the documentation: https://pandas.pydata.org/pandas-docs/stable/user_guide/indexing.html#returning-a-view-versus-a-copy\n",
      "  valid_3['Predictions3'] = predictions3\n"
     ]
    },
    {
     "data": {
      "text/plain": [
       "0.1189405424391152"
      ]
     },
     "execution_count": 11,
     "metadata": {},
     "output_type": "execute_result"
    }
   ],
   "source": [
    "def mape(actual, pred): \n",
    "    actual, pred = np.array(actual), np.array(pred)\n",
    "    return np.mean(np.abs((actual - pred) / actual)) * 100\n",
    "\n",
    "train = data[:training_data_len]\n",
    "valid_3 = data[training_data_len:]\n",
    "valid_3['Predictions3'] = predictions3\n",
    "\n",
    "mape(valid_3['Close'], valid_3['Predictions3'])"
   ]
  },
  {
   "cell_type": "code",
   "execution_count": 12,
   "metadata": {},
   "outputs": [
    {
     "data": {
      "text/plain": [
       "6664    113.872314\n",
       "6665    113.848831\n",
       "6666    113.833588\n",
       "6667    113.789673\n",
       "6668    113.742882\n",
       "           ...    \n",
       "7009    115.496574\n",
       "7010    115.476852\n",
       "7011    115.450256\n",
       "7012    115.424911\n",
       "7013    115.396652\n",
       "Name: Predictions3, Length: 350, dtype: float32"
      ]
     },
     "execution_count": 12,
     "metadata": {},
     "output_type": "execute_result"
    }
   ],
   "source": [
    "valid_3['Predictions3']"
   ]
  },
  {
   "cell_type": "code",
   "execution_count": null,
   "metadata": {},
   "outputs": [],
   "source": []
  },
  {
   "cell_type": "code",
   "execution_count": null,
   "metadata": {},
   "outputs": [],
   "source": []
  },
  {
   "cell_type": "code",
   "execution_count": null,
   "metadata": {},
   "outputs": [],
   "source": []
  },
  {
   "cell_type": "code",
   "execution_count": null,
   "metadata": {},
   "outputs": [],
   "source": []
  },
  {
   "cell_type": "code",
   "execution_count": null,
   "metadata": {},
   "outputs": [],
   "source": []
  }
 ],
 "metadata": {
  "kernelspec": {
   "display_name": "Python 3",
   "language": "python",
   "name": "python3"
  },
  "language_info": {
   "codemirror_mode": {
    "name": "ipython",
    "version": 3
   },
   "file_extension": ".py",
   "mimetype": "text/x-python",
   "name": "python",
   "nbconvert_exporter": "python",
   "pygments_lexer": "ipython3",
   "version": "3.8.5"
  }
 },
 "nbformat": 4,
 "nbformat_minor": 4
}
