{
 "cells": [
  {
   "cell_type": "code",
   "execution_count": 1,
   "metadata": {},
   "outputs": [],
   "source": [
    "import pandas as pd\n",
    "from datetime import datetime\n",
    "import time\n",
    "import numpy as np\n",
    "import pandas as pd\n",
    "import io"
   ]
  },
  {
   "cell_type": "code",
   "execution_count": 2,
   "metadata": {},
   "outputs": [],
   "source": [
    "df = pd.read_csv('gm_merge.csv')\n",
    "# Inspect the data\n",
    "\n",
    "df['Date'] = df['Datetime'].str[:-6]\n",
    "df['Date']=pd.to_datetime(df[\"Date\"]).dt.strftime(\"%Y-%m-%d %H:%M:%S\")"
   ]
  },
  {
   "cell_type": "code",
   "execution_count": 3,
   "metadata": {},
   "outputs": [],
   "source": [
    "data_date = df.filter(['Date'])\n",
    "\n",
    "data_date = data_date.values\n",
    "# Get the number of rows to train the model on\n",
    "training_data_date = int(np.ceil( len(data_date) * .95 ))\n",
    "train_data_date = data_date[0:int(training_data_date), :]"
   ]
  },
  {
   "cell_type": "code",
   "execution_count": 4,
   "metadata": {},
   "outputs": [],
   "source": [
    "import tensorflow.keras.layers\n",
    "from tensorflow.keras.models import Sequential\n",
    "from tensorflow.keras.layers import Dense, LSTM\n",
    "from tensorflow.keras.optimizers import Adam\n",
    "from tensorflow.keras.layers import Conv1D\n",
    "from tensorflow.keras.layers import MaxPooling1D\n",
    "from tensorflow.keras.layers import Bidirectional\n",
    "from tensorflow.keras.layers import Dense, Input, Embedding, Dropout, Activation, Conv1D\n",
    "from tensorflow.keras.layers import Dense, Input, RNN\n",
    "from tensorflow.keras.models import Model, Sequential, load_model\n",
    "from tensorflow.keras import backend as K\n",
    "from tensorflow.keras.optimizers import Adam\n",
    "\n",
    "import math\n",
    "from sklearn.preprocessing import MinMaxScaler\n",
    "from sklearn.metrics import mean_squared_error"
   ]
  },
  {
   "cell_type": "code",
   "execution_count": 5,
   "metadata": {},
   "outputs": [
    {
     "name": "stdout",
     "output_type": "stream",
     "text": [
      "2.8.0\n"
     ]
    }
   ],
   "source": [
    "\n",
    "import tensorflow as tf\n",
    "print(tf.__version__)"
   ]
  },
  {
   "cell_type": "code",
   "execution_count": 6,
   "metadata": {},
   "outputs": [
    {
     "name": "stdout",
     "output_type": "stream",
     "text": [
      "Datetime     0\n",
      "Open         0\n",
      "High         0\n",
      "Low          0\n",
      "Close        0\n",
      "Adj Close    0\n",
      "Volume       0\n",
      "Date         0\n",
      "dtype: int64\n"
     ]
    }
   ],
   "source": [
    "data = pd.DataFrame()\n",
    "data['Close']=df['Close']\n",
    "count_nan = len(df) - df.count()\n",
    "print(count_nan)"
   ]
  },
  {
   "cell_type": "code",
   "execution_count": 7,
   "metadata": {},
   "outputs": [],
   "source": [
    "#Converting the dataframe to a numpy array\n",
    "dataset = data.values\n",
    "#Get /Compute the number of rows to train the model on\n",
    "# training_data_len = math.ceil( len(dataset) *.6)\n",
    "training_data_len = math.ceil( len(dataset)*.95) \n",
    "\n",
    "\n",
    "\n",
    "#Scale the all of the data to be values between 0 and 1 \n",
    "scaler = MinMaxScaler(feature_range=(0, 1)) \n",
    "scaled_data = scaler.fit_transform(dataset)\n",
    "\n",
    "\n",
    "#Create the scaled training data set \n",
    "train_data = scaled_data[0:training_data_len  , : ]\n",
    "#Split the data into x_train and y_train data sets\n",
    "x_train=[]\n",
    "y_train = []\n",
    "for i in range(60,len(train_data)):\n",
    "    x_train.append(train_data[i-60:i,0])\n",
    "    y_train.append(train_data[i,0])\n",
    "\n",
    "\n",
    "#Convert x_train and y_train to numpy arrays\n",
    "x_train, y_train = np.array(x_train), np.array(y_train)    \n",
    "\n",
    "\n",
    "#Reshape the data into the shape accepted by the LSTM\n",
    "x_train = np.reshape(x_train, (x_train.shape[0],x_train.shape[1],1))"
   ]
  },
  {
   "cell_type": "code",
   "execution_count": 8,
   "metadata": {},
   "outputs": [],
   "source": [
    "#Test data set\n",
    "test_data = scaled_data[training_data_len - 60: , : ]\n",
    "#Create the x_test and y_test data sets\n",
    "x_test = []\n",
    "y_test =  dataset[training_data_len : , : ] \n",
    "for i in range(60,len(test_data)):\n",
    "    x_test.append(test_data[i-60:i,0])\n",
    "\n",
    "\n",
    "\n",
    "#Convert x_test to a numpy array \n",
    "x_test = np.array(x_test)\n",
    "\n",
    "#Reshape the data into the shape accepted by the LSTM\n",
    "x_test = np.reshape(x_test, (x_test.shape[0],x_test.shape[1],1))"
   ]
  },
  {
   "cell_type": "code",
   "execution_count": 9,
   "metadata": {},
   "outputs": [],
   "source": [
    "dataDimension = int(x_train.shape[1]) "
   ]
  },
  {
   "cell_type": "code",
   "execution_count": 10,
   "metadata": {},
   "outputs": [
    {
     "data": {
      "text/plain": [
       "True"
      ]
     },
     "execution_count": 10,
     "metadata": {},
     "output_type": "execute_result"
    }
   ],
   "source": [
    "cell = \"FastRNN\" \n",
    " \n",
    "inputDims = 1 #features taken in by RNN in one timestep\n",
    "hiddenDims = 50 #hidden state of RNN\n",
    " \n",
    "totalEpochs = 8\n",
    "batchSize = 64\n",
    " \n",
    "learningRate = 0.001 \n",
    "decayStep = 50\n",
    "decayRate = 0.1\n",
    " \n",
    "outFile = None\n",
    " \n",
    "\n",
    "wRank = None \n",
    "uRank = None \n",
    " \n",
    "\n",
    "sW = 1.0 \n",
    "sU = 1.0\n",
    " \n",
    "#Non-linearities for the RNN architecture. Can choose from \"tanh, sigmoid, relu, quantTanh, quantSigm\"\n",
    "update_non_linearity = \"relu\"\n",
    "gate_non_linearity = \"relu\"\n",
    "\n",
    "\n",
    "cell == \"FastRNN\""
   ]
  },
  {
   "cell_type": "code",
   "execution_count": 11,
   "metadata": {},
   "outputs": [
    {
     "name": "stdout",
     "output_type": "stream",
     "text": [
      "(6604, 60, 1)\n",
      "(350, 60, 1)\n",
      "(6604, 60, 1)\n",
      "(350, 60, 1)\n"
     ]
    }
   ],
   "source": [
    "print(x_train.shape)\n",
    "x_train = np.reshape(x_train,[x_train.shape[0],x_train.shape[1],1])\n",
    "print(x_test.shape)\n",
    "x_test = np.reshape(x_test,[x_test.shape[0],x_test.shape[1],1])\n",
    "print(x_train.shape)\n",
    "print(x_test.shape)"
   ]
  },
  {
   "cell_type": "code",
   "execution_count": 14,
   "metadata": {},
   "outputs": [
    {
     "name": "stdout",
     "output_type": "stream",
     "text": [
      "Epoch 1/8\n",
      "104/104 [==============================] - 22s 152ms/step - loss: 0.0126\n",
      "Epoch 2/8\n",
      "104/104 [==============================] - 16s 154ms/step - loss: 3.2483e-04\n",
      "Epoch 3/8\n",
      "104/104 [==============================] - 16s 153ms/step - loss: 1.7704e-04\n",
      "Epoch 4/8\n",
      "104/104 [==============================] - 16s 155ms/step - loss: 1.3638e-04\n",
      "Epoch 5/8\n",
      "104/104 [==============================] - 24s 229ms/step - loss: 1.2382e-04\n",
      "Epoch 6/8\n",
      "104/104 [==============================] - 28s 265ms/step - loss: 1.0457e-04\n",
      "Epoch 7/8\n",
      "104/104 [==============================] - 22s 211ms/step - loss: 8.5380e-05\n",
      "Epoch 8/8\n",
      "104/104 [==============================] - 26s 248ms/step - loss: 1.0807e-04\n"
     ]
    },
    {
     "data": {
      "text/plain": [
       "<keras.callbacks.History at 0x25ff86a6040>"
      ]
     },
     "execution_count": 14,
     "metadata": {},
     "output_type": "execute_result"
    }
   ],
   "source": [
    "from keras.models import Sequential\n",
    "from keras.layers import Dense\n",
    "from keras.layers import SimpleRNN\n",
    "from keras.layers import Dropout\n",
    "\n",
    "#Initialize RNN:\n",
    "regressor = Sequential()\n",
    "\n",
    "#Adding the first RNN layer and some Dropout regularization\n",
    "regressor.add(SimpleRNN(units = 50, activation='tanh', return_sequences=True, input_shape= (x_train.shape[1],1)))\n",
    "regressor.add(Conv1D(filters=300, kernel_size=3 , padding='same', activation='relu', name='Conv1D'))\n",
    "regressor.add(MaxPooling1D(pool_size=1,name='MaxPooling1D'))\n",
    "\n",
    "\n",
    "#Adding the second RNN layer and some Dropout regularization\n",
    "regressor.add(Bidirectional(LSTM(units=50, return_sequences=False)))\n",
    "regressor.add(Dense(1))\n",
    "# Compile the model\n",
    "regressor.compile(optimizer='adam', loss='mean_squared_error')\n",
    "\n",
    "# Train the model\n",
    "regressor.fit(x_train, y_train, batch_size=64, epochs=8)\n"
   ]
  },
  {
   "cell_type": "code",
   "execution_count": 15,
   "metadata": {},
   "outputs": [
    {
     "data": {
      "text/plain": [
       "0.12484666560160447"
      ]
     },
     "execution_count": 15,
     "metadata": {},
     "output_type": "execute_result"
    }
   ],
   "source": [
    "# Get the models predicted price values \n",
    "predictions = regressor.predict(x_test)\n",
    "predictions = scaler.inverse_transform(predictions)\n",
    "\n",
    "# Get the root mean squared error (RMSE)\n",
    "rmse = np.sqrt(np.mean(((predictions - y_test) ** 2)))\n",
    "rmse\n"
   ]
  },
  {
   "cell_type": "code",
   "execution_count": 16,
   "metadata": {},
   "outputs": [
    {
     "name": "stderr",
     "output_type": "stream",
     "text": [
      "<ipython-input-16-ffc677cae395>:7: SettingWithCopyWarning: \n",
      "A value is trying to be set on a copy of a slice from a DataFrame.\n",
      "Try using .loc[row_indexer,col_indexer] = value instead\n",
      "\n",
      "See the caveats in the documentation: https://pandas.pydata.org/pandas-docs/stable/user_guide/indexing.html#returning-a-view-versus-a-copy\n",
      "  valid_3['Predictions'] = predictions\n"
     ]
    },
    {
     "data": {
      "text/plain": [
       "0.2832276781634384"
      ]
     },
     "execution_count": 16,
     "metadata": {},
     "output_type": "execute_result"
    }
   ],
   "source": [
    "def mape(actual, pred): \n",
    "    actual, pred = np.array(actual), np.array(pred)\n",
    "    return np.mean(np.abs((actual - pred) / actual)) * 100\n",
    "\n",
    "train = data[:training_data_len]\n",
    "valid_3 = data[training_data_len:]\n",
    "valid_3['Predictions'] = predictions\n",
    "\n",
    "mape(valid_3['Close'], valid_3['Predictions'])"
   ]
  },
  {
   "cell_type": "code",
   "execution_count": 17,
   "metadata": {},
   "outputs": [
    {
     "data": {
      "image/png": "[encoded data removed]",
      "text/plain": [
       "<Figure size 1152x432 with 1 Axes>"
      ]
     },
     "metadata": {
      "needs_background": "light"
     },
     "output_type": "display_data"
    }
   ],
   "source": [
    "import matplotlib.pyplot as plt\n",
    "plt.figure(figsize=(16,6))\n",
    "plt.title('Predicted Model - Apple')\n",
    "plt.xlabel('Index', fontsize=18)\n",
    "plt.ylabel('Close Price ($)', fontsize=18)\n",
    "#plt.plot(train['Close'], 'b-', label = 'train')\n",
    "plt.plot(predictions,'r-', label = 'predict')\n",
    "plt.plot(y_test,'b-', label = 'actual')\n",
    "#plt.legend(['Train', 'Val', 'Predictions'], loc='lower right')\n",
    "plt.show()"
   ]
  },
  {
   "cell_type": "code",
   "execution_count": 44,
   "metadata": {},
   "outputs": [],
   "source": [
    "close_data = df['Close'].values\n",
    "close_data = close_data.reshape((-1,1))\n",
    "\n",
    "split_percent = 0.95\n",
    "split = int(split_percent*len(close_data))\n",
    "\n",
    "close_train = close_data[:split]\n",
    "close_test = close_data[split:]\n",
    "\n",
    "date_train = df['Datetime'][:split]\n",
    "date_test = df['Datetime'][split:]"
   ]
  },
  {
   "cell_type": "code",
   "execution_count": 45,
   "metadata": {},
   "outputs": [],
   "source": [
    "close_data = y_train\n",
    "look_back = 60\n",
    "\n",
    "actual_values=[168.9600067, 169.0899963,169.5090027,169.5800018,169.3999939,169.329895] #aapl\n",
    "#actual_values=[3075.899902, 3076.699951,3073.120117,3070.409912,3083.659912,3076.98999] #amazon\n",
    "#actual_values=[2702.300049, 2700.939941,2700.860107,2700.850098, 2699.070068, 2700.959961]\n",
    "\n",
    "def predict(num_prediction, regressor):\n",
    "    prediction_list = close_data[-look_back:]\n",
    "    \n",
    "    for _ in range(num_prediction):\n",
    "        x = prediction_list[-look_back:]\n",
    "        x = x.reshape((1, look_back, 1))\n",
    "        out = regressor.predict(x)[0][0]\n",
    "        prediction_list = np.append(prediction_list, out)\n",
    "    prediction_list = prediction_list[look_back-1:]\n",
    "        \n",
    "    return prediction_list\n",
    "    \n",
    "def predict_dates(num_prediction):\n",
    "    #last_date = df['Datetime'].values[-1]\n",
    "    last_date = date_train.values[-1]\n",
    "    prediction_dates = pd.date_range(last_date, freq=\"min\", periods=num_prediction+1).tolist()\n",
    "    return prediction_dates"
   ]
  },
  {
   "cell_type": "code",
   "execution_count": 46,
   "metadata": {},
   "outputs": [
    {
     "data": {
      "text/plain": [
       "array([[2702.300049  ],\n",
       "       [2696.78942045],\n",
       "       [2695.41566265],\n",
       "       [2692.91749652],\n",
       "       [2689.96027678],\n",
       "       [2686.61050178]])"
      ]
     },
     "execution_count": 46,
     "metadata": {},
     "output_type": "execute_result"
    }
   ],
   "source": [
    "num_prediction = 5\n",
    "#forecast = predict(num_prediction, model)\n",
    "forecast_dates = predict_dates(num_prediction)\n",
    "\n",
    "\n",
    "forecast = predict(num_prediction, regressor)\n",
    "reshape_forecast = np.reshape(forecast,(forecast.shape[0],1))\n",
    "\n",
    "result = scaler.inverse_transform(reshape_forecast)\n",
    "result"
   ]
  },
  {
   "cell_type": "code",
   "execution_count": 47,
   "metadata": {},
   "outputs": [
    {
     "data": {
      "text/plain": [
       "8.524932572037574"
      ]
     },
     "execution_count": 47,
     "metadata": {},
     "output_type": "execute_result"
    }
   ],
   "source": [
    "rmse = np.sqrt(np.mean(((result - actual_values) ** 2)))\n",
    "rmse"
   ]
  },
  {
   "cell_type": "code",
   "execution_count": 48,
   "metadata": {},
   "outputs": [
    {
     "data": {
      "text/plain": [
       "0.27106197719265057"
      ]
     },
     "execution_count": 48,
     "metadata": {},
     "output_type": "execute_result"
    }
   ],
   "source": [
    "mape(actual_values,result)"
   ]
  },
  {
   "cell_type": "code",
   "execution_count": null,
   "metadata": {},
   "outputs": [],
   "source": []
  },
  {
   "cell_type": "code",
   "execution_count": null,
   "metadata": {},
   "outputs": [],
   "source": []
  },
  {
   "cell_type": "code",
   "execution_count": null,
   "metadata": {},
   "outputs": [],
   "source": []
  },
  {
   "cell_type": "code",
   "execution_count": null,
   "metadata": {},
   "outputs": [],
   "source": [
    "#Getting the models predicted price values\n",
    "predictions_fastrnn_hyb_CNN_BiLSTM = regressor.predict(x_test) \n",
    "predictions_fastrnn_hyb_CNN_BiLSTM = scaler.inverse_transform(predictions_fastrnn_hyb_CNN_BiLSTM)#Undo scaling\n",
    "\n",
    "#Calculate/Get the value of RMSE\n",
    "rmse_fastrnn_hyb_CNN_BiLSTM=np.sqrt(np.mean(((predictions_fastrnn_hyb_CNN_BiLSTM- y_test)**2)))\n",
    "print(rmse_fastrnn_hyb_CNN_BiLSTM)"
   ]
  },
  {
   "cell_type": "code",
   "execution_count": null,
   "metadata": {},
   "outputs": [],
   "source": []
  }
 ],
 "metadata": {
  "kernelspec": {
   "display_name": "Python 3",
   "language": "python",
   "name": "python3"
  },
  "language_info": {
   "codemirror_mode": {
    "name": "ipython",
    "version": 3
   },
   "file_extension": ".py",
   "mimetype": "text/x-python",
   "name": "python",
   "nbconvert_exporter": "python",
   "pygments_lexer": "ipython3",
   "version": "3.8.5"
  }
 },
 "nbformat": 4,
 "nbformat_minor": 4
}
