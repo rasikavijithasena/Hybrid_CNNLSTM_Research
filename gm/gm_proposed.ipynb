{
 "cells": [
  {
   "cell_type": "code",
   "execution_count": 2,
   "metadata": {},
   "outputs": [
    {
     "data": {
      "text/html": [
       "<div>\n",
       "<style scoped>\n",
       "    .dataframe tbody tr th:only-of-type {\n",
       "        vertical-align: middle;\n",
       "    }\n",
       "\n",
       "    .dataframe tbody tr th {\n",
       "        vertical-align: top;\n",
       "    }\n",
       "\n",
       "    .dataframe thead th {\n",
       "        text-align: right;\n",
       "    }\n",
       "</style>\n",
       "<table border=\"1\" class=\"dataframe\">\n",
       "  <thead>\n",
       "    <tr style=\"text-align: right;\">\n",
       "      <th></th>\n",
       "      <th>Datetime</th>\n",
       "      <th>Open</th>\n",
       "      <th>High</th>\n",
       "      <th>Low</th>\n",
       "      <th>Close</th>\n",
       "      <th>Adj Close</th>\n",
       "      <th>Volume</th>\n",
       "    </tr>\n",
       "  </thead>\n",
       "  <tbody>\n",
       "    <tr>\n",
       "      <th>0</th>\n",
       "      <td>2022-05-24 14:30:00-04:00</td>\n",
       "      <td>35.150002</td>\n",
       "      <td>35.165001</td>\n",
       "      <td>35.130001</td>\n",
       "      <td>35.154999</td>\n",
       "      <td>35.154999</td>\n",
       "      <td>0</td>\n",
       "    </tr>\n",
       "    <tr>\n",
       "      <th>1</th>\n",
       "      <td>2022-05-24 14:31:00-04:00</td>\n",
       "      <td>35.154999</td>\n",
       "      <td>35.154999</td>\n",
       "      <td>35.110001</td>\n",
       "      <td>35.150002</td>\n",
       "      <td>35.150002</td>\n",
       "      <td>20825</td>\n",
       "    </tr>\n",
       "    <tr>\n",
       "      <th>2</th>\n",
       "      <td>2022-05-24 14:32:00-04:00</td>\n",
       "      <td>35.154999</td>\n",
       "      <td>35.200001</td>\n",
       "      <td>35.150002</td>\n",
       "      <td>35.200001</td>\n",
       "      <td>35.200001</td>\n",
       "      <td>15795</td>\n",
       "    </tr>\n",
       "    <tr>\n",
       "      <th>3</th>\n",
       "      <td>2022-05-24 14:33:00-04:00</td>\n",
       "      <td>35.200001</td>\n",
       "      <td>35.200001</td>\n",
       "      <td>35.174999</td>\n",
       "      <td>35.200001</td>\n",
       "      <td>35.200001</td>\n",
       "      <td>14615</td>\n",
       "    </tr>\n",
       "    <tr>\n",
       "      <th>4</th>\n",
       "      <td>2022-05-24 14:34:00-04:00</td>\n",
       "      <td>35.200001</td>\n",
       "      <td>35.215000</td>\n",
       "      <td>35.169998</td>\n",
       "      <td>35.215000</td>\n",
       "      <td>35.215000</td>\n",
       "      <td>15136</td>\n",
       "    </tr>\n",
       "  </tbody>\n",
       "</table>\n",
       "</div>"
      ],
      "text/plain": [
       "                    Datetime       Open       High        Low      Close  \\\n",
       "0  2022-05-24 14:30:00-04:00  35.150002  35.165001  35.130001  35.154999   \n",
       "1  2022-05-24 14:31:00-04:00  35.154999  35.154999  35.110001  35.150002   \n",
       "2  2022-05-24 14:32:00-04:00  35.154999  35.200001  35.150002  35.200001   \n",
       "3  2022-05-24 14:33:00-04:00  35.200001  35.200001  35.174999  35.200001   \n",
       "4  2022-05-24 14:34:00-04:00  35.200001  35.215000  35.169998  35.215000   \n",
       "\n",
       "   Adj Close  Volume  \n",
       "0  35.154999       0  \n",
       "1  35.150002   20825  \n",
       "2  35.200001   15795  \n",
       "3  35.200001   14615  \n",
       "4  35.215000   15136  "
      ]
     },
     "execution_count": 2,
     "metadata": {},
     "output_type": "execute_result"
    }
   ],
   "source": [
    "import pandas as pd\n",
    "import numpy as np\n",
    "# Load local .csv file as DataFrame\n",
    "df = pd.read_csv('gm_merge.csv')\n",
    "# Inspect the data\n",
    "df.head()"
   ]
  },
  {
   "cell_type": "code",
   "execution_count": 3,
   "metadata": {},
   "outputs": [],
   "source": [
    "df['Date'] = df['Datetime'].str[:-6]\n",
    "df['Date']=pd.to_datetime(df[\"Date\"]).dt.strftime(\"%Y-%m-%d %H:%M:%S\")\n",
    "\n",
    "data_date = df.filter(['Date'])\n",
    "\n",
    "data_date = data_date.values\n",
    "# Get the number of rows to train the model on\n",
    "training_data_date = int(np.ceil( len(data_date) * .95 ))\n",
    "\n",
    "from sklearn.preprocessing import MinMaxScaler\n",
    "\n",
    "#scaler1 = MinMaxScaler(feature_range=(0,1))\n",
    "#scaled_data1 = scaler1.fit_transform(data_date)\n",
    "# Create the training data set \n",
    "# Create the scaled training data set\n",
    "train_data_date = data_date[0:int(training_data_date), :]"
   ]
  },
  {
   "cell_type": "code",
   "execution_count": 4,
   "metadata": {},
   "outputs": [],
   "source": [
    "# Create a new dataframe with only the 'Close column \n",
    "data = df.filter(['Close'])\n",
    "# Convert the dataframe to a numpy array\n",
    "dataset = data.values\n",
    "# Get the number of rows to train the model on\n",
    "training_data_len = int(np.ceil( len(dataset) * .95 ))\n",
    "\n"
   ]
  },
  {
   "cell_type": "code",
   "execution_count": 5,
   "metadata": {},
   "outputs": [
    {
     "name": "stdout",
     "output_type": "stream",
     "text": [
      "[array([0.49999979, 0.49944143, 0.50502794, 0.50502794, 0.50670385,\n",
      "       0.50893854, 0.50111734, 0.50558672, 0.5117205 , 0.51005567,\n",
      "       0.50670385, 0.50558672, 0.50223447, 0.49720675, 0.4953855 ,\n",
      "       0.49273737, 0.48882677, 0.48770922, 0.48268149, 0.47988802,\n",
      "       0.47709498, 0.4804468 , 0.48379862, 0.47932967, 0.47709498,\n",
      "       0.47597743, 0.47932967, 0.48100558, 0.48268149, 0.48100558,\n",
      "       0.48547496, 0.48603331, 0.48379862, 0.49497206, 0.49329615,\n",
      "       0.50055857, 0.49854722, 0.49329615, 0.49162024, 0.49050268,\n",
      "       0.49106146, 0.49217859, 0.48770922, 0.48603331, 0.48268149,\n",
      "       0.47988802, 0.4804468 , 0.48268149, 0.48100558, 0.47877089,\n",
      "       0.47262561, 0.48156436, 0.48156436, 0.48268149, 0.48324027,\n",
      "       0.48491618, 0.49050268, 0.49441328, 0.48603331, 0.48547496])]\n",
      "[0.48435739831701685]\n",
      "\n",
      "[array([0.49999979, 0.49944143, 0.50502794, 0.50502794, 0.50670385,\n",
      "       0.50893854, 0.50111734, 0.50558672, 0.5117205 , 0.51005567,\n",
      "       0.50670385, 0.50558672, 0.50223447, 0.49720675, 0.4953855 ,\n",
      "       0.49273737, 0.48882677, 0.48770922, 0.48268149, 0.47988802,\n",
      "       0.47709498, 0.4804468 , 0.48379862, 0.47932967, 0.47709498,\n",
      "       0.47597743, 0.47932967, 0.48100558, 0.48268149, 0.48100558,\n",
      "       0.48547496, 0.48603331, 0.48379862, 0.49497206, 0.49329615,\n",
      "       0.50055857, 0.49854722, 0.49329615, 0.49162024, 0.49050268,\n",
      "       0.49106146, 0.49217859, 0.48770922, 0.48603331, 0.48268149,\n",
      "       0.47988802, 0.4804468 , 0.48268149, 0.48100558, 0.47877089,\n",
      "       0.47262561, 0.48156436, 0.48156436, 0.48268149, 0.48324027,\n",
      "       0.48491618, 0.49050268, 0.49441328, 0.48603331, 0.48547496]), array([0.49944143, 0.50502794, 0.50502794, 0.50670385, 0.50893854,\n",
      "       0.50111734, 0.50558672, 0.5117205 , 0.51005567, 0.50670385,\n",
      "       0.50558672, 0.50223447, 0.49720675, 0.4953855 , 0.49273737,\n",
      "       0.48882677, 0.48770922, 0.48268149, 0.47988802, 0.47709498,\n",
      "       0.4804468 , 0.48379862, 0.47932967, 0.47709498, 0.47597743,\n",
      "       0.47932967, 0.48100558, 0.48268149, 0.48100558, 0.48547496,\n",
      "       0.48603331, 0.48379862, 0.49497206, 0.49329615, 0.50055857,\n",
      "       0.49854722, 0.49329615, 0.49162024, 0.49050268, 0.49106146,\n",
      "       0.49217859, 0.48770922, 0.48603331, 0.48268149, 0.47988802,\n",
      "       0.4804468 , 0.48268149, 0.48100558, 0.47877089, 0.47262561,\n",
      "       0.48156436, 0.48156436, 0.48268149, 0.48324027, 0.48491618,\n",
      "       0.49050268, 0.49441328, 0.48603331, 0.48547496, 0.4843574 ])]\n",
      "[0.48435739831701685, 0.48156435819961807]\n",
      "\n"
     ]
    }
   ],
   "source": [
    "from sklearn.preprocessing import MinMaxScaler\n",
    "\n",
    "scaler = MinMaxScaler(feature_range=(0,1))\n",
    "scaled_data = scaler.fit_transform(dataset)\n",
    "# Create the training data set \n",
    "# Create the scaled training data set\n",
    "train_data = scaled_data[0:int(training_data_len), :]\n",
    "# Split the data into x_train and y_train data sets\n",
    "x_train = []\n",
    "y_train = []\n",
    "\n",
    "for i in range(60, len(train_data)):\n",
    "    x_train.append(train_data[i-60:i, 0])\n",
    "    y_train.append(train_data[i, 0])\n",
    "    if i<= 61:\n",
    "        print(x_train)\n",
    "        print(y_train)\n",
    "        print()\n",
    "        \n",
    "# Convert the x_train and y_train to numpy arrays \n",
    "x_train, y_train = np.array(x_train), np.array(y_train)\n",
    "\n",
    "# Reshape the data\n",
    "x_train = np.reshape(x_train, (x_train.shape[0], x_train.shape[1], 1))\n",
    "# x_train.shape"
   ]
  },
  {
   "cell_type": "code",
   "execution_count": 6,
   "metadata": {},
   "outputs": [
    {
     "name": "stdout",
     "output_type": "stream",
     "text": [
      "Epoch 1/8\n",
      "413/413 [==============================] - 36s 72ms/step - loss: 0.0064\n",
      "Epoch 2/8\n",
      "413/413 [==============================] - 26s 64ms/step - loss: 0.0011\n",
      "Epoch 3/8\n",
      "413/413 [==============================] - 32s 78ms/step - loss: 7.8933e-04\n",
      "Epoch 4/8\n",
      "413/413 [==============================] - 41s 99ms/step - loss: 5.5071e-04\n",
      "Epoch 5/8\n",
      "413/413 [==============================] - 56s 135ms/step - loss: 3.9327e-04\n",
      "Epoch 6/8\n",
      "413/413 [==============================] - 55s 133ms/step - loss: 3.3536e-04\n",
      "Epoch 7/8\n",
      "413/413 [==============================] - 43s 104ms/step - loss: 2.7849e-04\n",
      "Epoch 8/8\n",
      "413/413 [==============================] - 44s 108ms/step - loss: 3.4053e-04\n"
     ]
    },
    {
     "data": {
      "text/plain": [
       "<keras.callbacks.History at 0x1f59aed36a0>"
      ]
     },
     "execution_count": 6,
     "metadata": {},
     "output_type": "execute_result"
    }
   ],
   "source": [
    "from keras.models import Sequential\n",
    "from keras.layers import Dense, LSTM, Dropout\n",
    "from keras.layers import Flatten\n",
    "from keras.layers.convolutional import Conv1D\n",
    "from keras.layers.convolutional import MaxPooling1D\n",
    "from numpy import array\n",
    "\n",
    "# Build the LSTM model\n",
    "model = Sequential()\n",
    "model.add(Conv1D(filters=128, kernel_size=2, activation='relu', input_shape= (x_train.shape[1], 1)))\n",
    "model.add(MaxPooling1D(pool_size=2))\n",
    "model.add(LSTM(128, return_sequences=True, activation='relu' ))\n",
    "model.add(LSTM(64, return_sequences=True, activation='relu' ))\n",
    "model.add(LSTM(32, return_sequences=True))\n",
    "model.add(Flatten())\n",
    "model.add(Dense(100, activation='relu'))\n",
    "model.add(Dense(1))\n",
    "\n",
    "# Compile the model\n",
    "model.compile(optimizer='adam', loss='mean_squared_error')\n",
    "\n",
    "# Train the model\n",
    "model.fit(x_train, y_train, batch_size=16, epochs=8)"
   ]
  },
  {
   "cell_type": "code",
   "execution_count": 7,
   "metadata": {},
   "outputs": [
    {
     "data": {
      "text/plain": [
       "0.12422808528837465"
      ]
     },
     "execution_count": 7,
     "metadata": {},
     "output_type": "execute_result"
    }
   ],
   "source": [
    "test_data = scaled_data[training_data_len - 60: , :]\n",
    "# Create the data sets x_test and y_test\n",
    "x_test = []\n",
    "y_test = dataset[training_data_len:, :]\n",
    "for i in range(60, len(test_data)):\n",
    "    x_test.append(test_data[i-60:i, 0])\n",
    "    \n",
    "# Convert the data to a numpy array\n",
    "x_test = np.array(x_test)\n",
    "\n",
    "# Reshape the data\n",
    "x_test = np.reshape(x_test, (x_test.shape[0], x_test.shape[1], 1 ))\n",
    "\n",
    "# Get the models predicted price values \n",
    "predictions3 = model.predict(x_test)\n",
    "predictions3 = scaler.inverse_transform(predictions3)\n",
    "\n",
    "# Get the root mean squared error (RMSE)\n",
    "rmse = np.sqrt(np.mean(((predictions3 - y_test) ** 2)))\n",
    "rmse"
   ]
  },
  {
   "cell_type": "code",
   "execution_count": 8,
   "metadata": {},
   "outputs": [
    {
     "name": "stderr",
     "output_type": "stream",
     "text": [
      "<ipython-input-8-cda6690b5d4b>:7: SettingWithCopyWarning: \n",
      "A value is trying to be set on a copy of a slice from a DataFrame.\n",
      "Try using .loc[row_indexer,col_indexer] = value instead\n",
      "\n",
      "See the caveats in the documentation: https://pandas.pydata.org/pandas-docs/stable/user_guide/indexing.html#returning-a-view-versus-a-copy\n",
      "  valid_3['Predictions3'] = predictions3\n"
     ]
    },
    {
     "data": {
      "text/plain": [
       "0.205480844231056"
      ]
     },
     "execution_count": 8,
     "metadata": {},
     "output_type": "execute_result"
    }
   ],
   "source": [
    "def mape(actual, pred): \n",
    "    actual, pred = np.array(actual), np.array(pred)\n",
    "    return np.mean(np.abs((actual - pred) / actual)) * 100\n",
    "\n",
    "train = data[:training_data_len]\n",
    "valid_3 = data[training_data_len:]\n",
    "valid_3['Predictions3'] = predictions3\n",
    "\n",
    "mape(valid_3['Close'], valid_3['Predictions3'])"
   ]
  },
  {
   "cell_type": "code",
   "execution_count": 9,
   "metadata": {},
   "outputs": [
    {
     "data": {
      "text/plain": [
       "6664    32.037582\n",
       "6665    32.019894\n",
       "6666    32.007736\n",
       "6667    31.983686\n",
       "6668    31.961205\n",
       "          ...    \n",
       "7009    32.743740\n",
       "7010    32.745430\n",
       "7011    32.734638\n",
       "7012    32.734608\n",
       "7013    32.719551\n",
       "Name: Predictions3, Length: 350, dtype: float32"
      ]
     },
     "execution_count": 9,
     "metadata": {},
     "output_type": "execute_result"
    }
   ],
   "source": [
    "valid_3['Predictions3']"
   ]
  },
  {
   "cell_type": "code",
   "execution_count": null,
   "metadata": {},
   "outputs": [],
   "source": []
  },
  {
   "cell_type": "code",
   "execution_count": null,
   "metadata": {},
   "outputs": [],
   "source": []
  },
  {
   "cell_type": "code",
   "execution_count": null,
   "metadata": {},
   "outputs": [],
   "source": []
  },
  {
   "cell_type": "code",
   "execution_count": null,
   "metadata": {},
   "outputs": [],
   "source": []
  }
 ],
 "metadata": {
  "kernelspec": {
   "display_name": "Python 3",
   "language": "python",
   "name": "python3"
  },
  "language_info": {
   "codemirror_mode": {
    "name": "ipython",
    "version": 3
   },
   "file_extension": ".py",
   "mimetype": "text/x-python",
   "name": "python",
   "nbconvert_exporter": "python",
   "pygments_lexer": "ipython3",
   "version": "3.8.5"
  }
 },
 "nbformat": 4,
 "nbformat_minor": 4
}
