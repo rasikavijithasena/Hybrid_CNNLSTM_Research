{
 "cells": [
  {
   "cell_type": "code",
   "execution_count": 3,
   "metadata": {},
   "outputs": [
    {
     "data": {
      "text/html": [
       "<div>\n",
       "<style scoped>\n",
       "    .dataframe tbody tr th:only-of-type {\n",
       "        vertical-align: middle;\n",
       "    }\n",
       "\n",
       "    .dataframe tbody tr th {\n",
       "        vertical-align: top;\n",
       "    }\n",
       "\n",
       "    .dataframe thead th {\n",
       "        text-align: right;\n",
       "    }\n",
       "</style>\n",
       "<table border=\"1\" class=\"dataframe\">\n",
       "  <thead>\n",
       "    <tr style=\"text-align: right;\">\n",
       "      <th></th>\n",
       "      <th>Datetime</th>\n",
       "      <th>Open</th>\n",
       "      <th>High</th>\n",
       "      <th>Low</th>\n",
       "      <th>Close</th>\n",
       "      <th>Adj Close</th>\n",
       "      <th>Volume</th>\n",
       "    </tr>\n",
       "  </thead>\n",
       "  <tbody>\n",
       "    <tr>\n",
       "      <th>0</th>\n",
       "      <td>2021-12-31 13:30:00-05:00</td>\n",
       "      <td>177.610001</td>\n",
       "      <td>177.695007</td>\n",
       "      <td>177.570007</td>\n",
       "      <td>177.595001</td>\n",
       "      <td>177.595001</td>\n",
       "      <td>0</td>\n",
       "    </tr>\n",
       "    <tr>\n",
       "      <th>1</th>\n",
       "      <td>2021-12-31 13:31:00-05:00</td>\n",
       "      <td>177.595001</td>\n",
       "      <td>177.619995</td>\n",
       "      <td>177.500000</td>\n",
       "      <td>177.549896</td>\n",
       "      <td>177.549896</td>\n",
       "      <td>94884</td>\n",
       "    </tr>\n",
       "    <tr>\n",
       "      <th>2</th>\n",
       "      <td>2021-12-31 13:32:00-05:00</td>\n",
       "      <td>177.550003</td>\n",
       "      <td>177.660004</td>\n",
       "      <td>177.541000</td>\n",
       "      <td>177.639999</td>\n",
       "      <td>177.639999</td>\n",
       "      <td>71624</td>\n",
       "    </tr>\n",
       "    <tr>\n",
       "      <th>3</th>\n",
       "      <td>2021-12-31 13:33:00-05:00</td>\n",
       "      <td>177.639999</td>\n",
       "      <td>177.778900</td>\n",
       "      <td>177.630096</td>\n",
       "      <td>177.750000</td>\n",
       "      <td>177.750000</td>\n",
       "      <td>143784</td>\n",
       "    </tr>\n",
       "    <tr>\n",
       "      <th>4</th>\n",
       "      <td>2021-12-31 13:34:00-05:00</td>\n",
       "      <td>177.740005</td>\n",
       "      <td>177.910004</td>\n",
       "      <td>177.740005</td>\n",
       "      <td>177.785797</td>\n",
       "      <td>177.785797</td>\n",
       "      <td>276125</td>\n",
       "    </tr>\n",
       "  </tbody>\n",
       "</table>\n",
       "</div>"
      ],
      "text/plain": [
       "                    Datetime        Open        High         Low       Close  \\\n",
       "0  2021-12-31 13:30:00-05:00  177.610001  177.695007  177.570007  177.595001   \n",
       "1  2021-12-31 13:31:00-05:00  177.595001  177.619995  177.500000  177.549896   \n",
       "2  2021-12-31 13:32:00-05:00  177.550003  177.660004  177.541000  177.639999   \n",
       "3  2021-12-31 13:33:00-05:00  177.639999  177.778900  177.630096  177.750000   \n",
       "4  2021-12-31 13:34:00-05:00  177.740005  177.910004  177.740005  177.785797   \n",
       "\n",
       "    Adj Close  Volume  \n",
       "0  177.595001       0  \n",
       "1  177.549896   94884  \n",
       "2  177.639999   71624  \n",
       "3  177.750000  143784  \n",
       "4  177.785797  276125  "
      ]
     },
     "execution_count": 3,
     "metadata": {},
     "output_type": "execute_result"
    }
   ],
   "source": [
    "import pandas as pd\n",
    "import numpy as np\n",
    "# Load local .csv file as DataFrame\n",
    "df = pd.read_csv('aapl_all_csv.csv')\n",
    "# Inspect the data\n",
    "df.head()"
   ]
  },
  {
   "cell_type": "code",
   "execution_count": 28,
   "metadata": {},
   "outputs": [],
   "source": [
    "df['Date'] = df['Datetime'].str[:-6]\n",
    "df['Date']=pd.to_datetime(df[\"Date\"]).dt.strftime(\"%Y-%m-%d %H:%M:%S\")\n",
    "\n",
    "data_date = df.filter(['Date'])\n",
    "\n",
    "data_date = data_date.values\n",
    "\n",
    "# Get the number of rows to train the model and validations\n",
    "training_data_date = int(np.ceil( len(data_date) * .95 ))\n",
    "\n",
    "from sklearn.preprocessing import MinMaxScaler\n",
    "\n",
    "# Create the scaled training data set\n",
    "train_data_date = data_date[0:int(training_data_date), :]"
   ]
  },
  {
   "cell_type": "code",
   "execution_count": 4,
   "metadata": {},
   "outputs": [],
   "source": [
    "# Create a new dataframe with only the 'Close column \n",
    "data = df.filter(['Close'])\n",
    "# Convert the dataframe to a numpy array\n",
    "dataset = data.values\n",
    "# Get the number of rows to train the model on\n",
    "training_data_len = int(np.ceil( len(dataset) * .95 ))\n",
    "\n"
   ]
  },
  {
   "cell_type": "code",
   "execution_count": 5,
   "metadata": {},
   "outputs": [
    {
     "name": "stdout",
     "output_type": "stream",
     "text": [
      "[array([0.81304441, 0.81144125, 0.81464378, 0.81855352, 0.81982585,\n",
      "       0.81926453, 0.81677626, 0.81428854, 0.81392572, 0.81428854,\n",
      "       0.81215931, 0.81049595, 0.8085945 , 0.80895678, 0.80789053,\n",
      "       0.80639801, 0.80504378, 0.80735741, 0.80824631, 0.80789053,\n",
      "       0.80717953, 0.80966399, 0.80771319, 0.80824957, 0.80931256,\n",
      "       0.81073403, 0.81073403, 0.81108927, 0.8103788 , 0.81144505,\n",
      "       0.81091192, 0.81304441, 0.81375542, 0.8123334 , 0.8132223 ,\n",
      "       0.81251129, 0.81499901, 0.81215605, 0.81002302, 0.81073403,\n",
      "       0.81208826, 0.8103788 , 0.81128831, 0.8103788 , 0.8132223 ,\n",
      "       0.81251129, 0.81073403, 0.81002302, 0.80966779, 0.80966779,\n",
      "       0.80967159, 0.80860154, 0.80745015, 0.80522492, 0.80362556,\n",
      "       0.80433657, 0.80504703, 0.80504703, 0.80575805, 0.80611328])]\n",
      "[0.8091346667936978]\n",
      "\n",
      "[array([0.81304441, 0.81144125, 0.81464378, 0.81855352, 0.81982585,\n",
      "       0.81926453, 0.81677626, 0.81428854, 0.81392572, 0.81428854,\n",
      "       0.81215931, 0.81049595, 0.8085945 , 0.80895678, 0.80789053,\n",
      "       0.80639801, 0.80504378, 0.80735741, 0.80824631, 0.80789053,\n",
      "       0.80717953, 0.80966399, 0.80771319, 0.80824957, 0.80931256,\n",
      "       0.81073403, 0.81073403, 0.81108927, 0.8103788 , 0.81144505,\n",
      "       0.81091192, 0.81304441, 0.81375542, 0.8123334 , 0.8132223 ,\n",
      "       0.81251129, 0.81499901, 0.81215605, 0.81002302, 0.81073403,\n",
      "       0.81208826, 0.8103788 , 0.81128831, 0.8103788 , 0.8132223 ,\n",
      "       0.81251129, 0.81073403, 0.81002302, 0.80966779, 0.80966779,\n",
      "       0.80967159, 0.80860154, 0.80745015, 0.80522492, 0.80362556,\n",
      "       0.80433657, 0.80504703, 0.80504703, 0.80575805, 0.80611328]), array([0.81144125, 0.81464378, 0.81855352, 0.81982585, 0.81926453,\n",
      "       0.81677626, 0.81428854, 0.81392572, 0.81428854, 0.81215931,\n",
      "       0.81049595, 0.8085945 , 0.80895678, 0.80789053, 0.80639801,\n",
      "       0.80504378, 0.80735741, 0.80824631, 0.80789053, 0.80717953,\n",
      "       0.80966399, 0.80771319, 0.80824957, 0.80931256, 0.81073403,\n",
      "       0.81073403, 0.81108927, 0.8103788 , 0.81144505, 0.81091192,\n",
      "       0.81304441, 0.81375542, 0.8123334 , 0.8132223 , 0.81251129,\n",
      "       0.81499901, 0.81215605, 0.81002302, 0.81073403, 0.81208826,\n",
      "       0.8103788 , 0.81128831, 0.8103788 , 0.8132223 , 0.81251129,\n",
      "       0.81073403, 0.81002302, 0.80966779, 0.80966779, 0.80967159,\n",
      "       0.80860154, 0.80745015, 0.80522492, 0.80362556, 0.80433657,\n",
      "       0.80504703, 0.80504703, 0.80575805, 0.80611328, 0.80913467])]\n",
      "[0.8091346667936978, 0.8102009118928386]\n",
      "\n"
     ]
    }
   ],
   "source": [
    "from sklearn.preprocessing import MinMaxScaler\n",
    "\n",
    "scaler = MinMaxScaler(feature_range=(0,1))\n",
    "scaled_data = scaler.fit_transform(dataset)\n",
    "\n",
    "# Create the training data set \n",
    "# Create the scaled training data set\n",
    "train_data = scaled_data[0:int(training_data_len), :]\n",
    "# Split the data into x_train and y_train data sets\n",
    "x_train = []\n",
    "y_train = []\n",
    "\n",
    "for i in range(60, len(train_data)):\n",
    "    x_train.append(train_data[i-60:i, 0])\n",
    "    y_train.append(train_data[i, 0])\n",
    "    if i<= 61:\n",
    "        print(x_train)\n",
    "        print(y_train)\n",
    "        print()\n",
    "        \n",
    "# Convert the x_train and y_train to numpy arrays \n",
    "x_train, y_train = np.array(x_train), np.array(y_train)\n",
    "\n",
    "# Reshape the data\n",
    "x_train = np.reshape(x_train, (x_train.shape[0], x_train.shape[1], 1))\n",
    "# x_train.shape"
   ]
  },
  {
   "cell_type": "code",
   "execution_count": 6,
   "metadata": {},
   "outputs": [
    {
     "name": "stdout",
     "output_type": "stream",
     "text": [
      "Epoch 1/8\n",
      "792/792 [==============================] - 37s 40ms/step - loss: 0.0030\n",
      "Epoch 2/8\n",
      "792/792 [==============================] - 33s 41ms/step - loss: 7.0196e-04\n",
      "Epoch 3/8\n",
      "792/792 [==============================] - 32s 40ms/step - loss: 3.8523e-04\n",
      "Epoch 4/8\n",
      "792/792 [==============================] - 59s 75ms/step - loss: 3.0472e-04\n",
      "Epoch 5/8\n",
      "792/792 [==============================] - 51s 65ms/step - loss: 2.3660e-04\n",
      "Epoch 6/8\n",
      "792/792 [==============================] - 53s 66ms/step - loss: 2.0285e-04\n",
      "Epoch 7/8\n",
      "792/792 [==============================] - 55s 69ms/step - loss: 1.6094e-04\n",
      "Epoch 8/8\n",
      "792/792 [==============================] - 51s 64ms/step - loss: 1.5756e-04\n"
     ]
    },
    {
     "data": {
      "text/plain": [
       "<keras.callbacks.History at 0x1fafda0ae50>"
      ]
     },
     "execution_count": 6,
     "metadata": {},
     "output_type": "execute_result"
    }
   ],
   "source": [
    "from keras.models import Sequential\n",
    "from keras.layers import Dense, LSTM, Dropout\n",
    "from keras.layers import Flatten\n",
    "from keras.layers.convolutional import Conv1D\n",
    "from keras.layers.convolutional import MaxPooling1D\n",
    "from numpy import array\n",
    "\n",
    "# Build the LSTM model\n",
    "model = Sequential()\n",
    "model.add(Conv1D(filters=128, kernel_size=2, activation='relu', input_shape= (x_train.shape[1], 1)))\n",
    "model.add(MaxPooling1D(pool_size=2))\n",
    "model.add(LSTM(128, return_sequences=True, activation='relu' ))\n",
    "model.add(LSTM(64, return_sequences=True, activation='relu' ))\n",
    "model.add(LSTM(32, return_sequences=True))\n",
    "model.add(Flatten())\n",
    "model.add(Dense(100, activation='relu'))\n",
    "model.add(Dense(1))\n",
    "\n",
    "# Compile the model\n",
    "model.compile(optimizer='adam', loss='mean_squared_error')\n",
    "\n",
    "# Train the model\n",
    "model.fit(x_train, y_train, batch_size=16, epochs=20)"
   ]
  },
  {
   "cell_type": "code",
   "execution_count": 7,
   "metadata": {},
   "outputs": [
    {
     "data": {
      "text/plain": [
       "0.18395527559568828"
      ]
     },
     "execution_count": 7,
     "metadata": {},
     "output_type": "execute_result"
    }
   ],
   "source": [
    "test_data = scaled_data[training_data_len - 60: , :]\n",
    "# Create the data sets x_test and y_test\n",
    "x_test = []\n",
    "y_test = dataset[training_data_len:, :]\n",
    "for i in range(60, len(test_data)):\n",
    "    x_test.append(test_data[i-60:i, 0])\n",
    "    \n",
    "# Convert the data to a numpy array\n",
    "x_test = np.array(x_test)\n",
    "\n",
    "# Reshape the data\n",
    "x_test = np.reshape(x_test, (x_test.shape[0], x_test.shape[1], 1 ))\n",
    "\n",
    "# Get the models predicted price values \n",
    "predictions3 = model.predict(x_test)\n",
    "predictions3 = scaler.inverse_transform(predictions3)\n",
    "\n",
    "# Get the root mean squared error (RMSE)\n",
    "rmse = np.sqrt(np.mean(((predictions3 - y_test) ** 2)))\n",
    "rmse"
   ]
  },
  {
   "cell_type": "code",
   "execution_count": 8,
   "metadata": {},
   "outputs": [
    {
     "name": "stderr",
     "output_type": "stream",
     "text": [
      "<ipython-input-8-cda6690b5d4b>:7: SettingWithCopyWarning: \n",
      "A value is trying to be set on a copy of a slice from a DataFrame.\n",
      "Try using .loc[row_indexer,col_indexer] = value instead\n",
      "\n",
      "See the caveats in the documentation: https://pandas.pydata.org/pandas-docs/stable/user_guide/indexing.html#returning-a-view-versus-a-copy\n",
      "  valid_3['Predictions3'] = predictions3\n"
     ]
    },
    {
     "data": {
      "text/plain": [
       "0.07727229131243533"
      ]
     },
     "execution_count": 8,
     "metadata": {},
     "output_type": "execute_result"
    }
   ],
   "source": [
    "def mape(actual, pred): \n",
    "    actual, pred = np.array(actual), np.array(pred)\n",
    "    return np.mean(np.abs((actual - pred) / actual)) * 100\n",
    "\n",
    "train = data[:training_data_len]\n",
    "valid_3 = data[training_data_len:]\n",
    "valid_3['Predictions3'] = predictions3\n",
    "\n",
    "mape(valid_3['Close'], valid_3['Predictions3'])"
   ]
  },
  {
   "cell_type": "code",
   "execution_count": 9,
   "metadata": {},
   "outputs": [
    {
     "data": {
      "text/plain": [
       "12732    171.328659\n",
       "12733    171.338608\n",
       "12734    171.314987\n",
       "12735    171.245789\n",
       "12736    171.218369\n",
       "            ...    \n",
       "13397    167.274689\n",
       "13398    167.413086\n",
       "13399    167.369843\n",
       "13400    167.231873\n",
       "13401    167.115051\n",
       "Name: Predictions3, Length: 670, dtype: float32"
      ]
     },
     "execution_count": 9,
     "metadata": {},
     "output_type": "execute_result"
    }
   ],
   "source": [
    "valid_3['Predictions3']"
   ]
  },
  {
   "cell_type": "code",
   "execution_count": null,
   "metadata": {},
   "outputs": [],
   "source": [
    "#forecasting"
   ]
  },
  {
   "cell_type": "code",
   "execution_count": 10,
   "metadata": {},
   "outputs": [],
   "source": [
    "close_data = df['Close'].values\n",
    "close_data = close_data.reshape((-1,1))\n",
    "\n",
    "split_percent = 0.95\n",
    "split = int(split_percent*len(close_data))\n",
    "\n",
    "close_train = close_data[:split]\n",
    "close_test = close_data[split:]\n",
    "\n",
    "date_train = df['Datetime'][:split]\n",
    "date_test = df['Datetime'][split:]"
   ]
  },
  {
   "cell_type": "code",
   "execution_count": 11,
   "metadata": {},
   "outputs": [],
   "source": [
    "#close_data = close_data.reshape((-1))\n",
    "close_data = y_train\n",
    "look_back = 60\n",
    "\n",
    "def predict(num_prediction, model):\n",
    "    prediction_list = close_data[-look_back:]\n",
    "    \n",
    "    for _ in range(num_prediction):\n",
    "        x = prediction_list[-look_back:]\n",
    "        x = x.reshape((1, look_back, 1))\n",
    "        out = model.predict(x)[0][0]\n",
    "        prediction_list = np.append(prediction_list, out)\n",
    "    prediction_list = prediction_list[look_back-1:]\n",
    "        \n",
    "    return prediction_list\n",
    "    \n",
    "def predict_dates(num_prediction):\n",
    "    #last_date = df['Datetime'].values[-1]\n",
    "    last_date = date_train.values[-1]\n",
    "    prediction_dates = pd.date_range(last_date, freq=\"min\", periods=num_prediction+1).tolist()\n",
    "    return prediction_dates"
   ]
  },
  {
   "cell_type": "code",
   "execution_count": 12,
   "metadata": {},
   "outputs": [
    {
     "data": {
      "text/plain": [
       "array([[171.4450073 ],\n",
       "       [171.32867103],\n",
       "       [171.33860376],\n",
       "       [171.2877243 ],\n",
       "       [171.23961184],\n",
       "       [171.23137789]])"
      ]
     },
     "execution_count": 12,
     "metadata": {},
     "output_type": "execute_result"
    }
   ],
   "source": [
    "num_prediction = 5\n",
    "#forecast = predict(num_prediction, model)\n",
    "forecast_dates = predict_dates(num_prediction)\n",
    "\n",
    "\n",
    "forecast = predict(num_prediction, model)\n",
    "reshape_forecast = np.reshape(forecast,(forecast.shape[0],1))\n",
    "\n",
    "result = scaler.inverse_transform(reshape_forecast)\n",
    "result"
   ]
  },
  {
   "cell_type": "code",
   "execution_count": 13,
   "metadata": {},
   "outputs": [
    {
     "name": "stdout",
     "output_type": "stream",
     "text": [
      "12672\n"
     ]
    }
   ],
   "source": [
    "print(len(close_data))"
   ]
  },
  {
   "cell_type": "code",
   "execution_count": 14,
   "metadata": {},
   "outputs": [],
   "source": [
    "actual_values=[171.4450073, 171.3699951,171.2998962,171.3000031, 171.2799988, 171.1900024]"
   ]
  },
  {
   "cell_type": "code",
   "execution_count": 15,
   "metadata": {},
   "outputs": [
    {
     "data": {
      "text/plain": [
       "[171.4450073, 171.3699951, 171.2998962, 171.3000031, 171.2799988, 171.1900024]"
      ]
     },
     "execution_count": 15,
     "metadata": {},
     "output_type": "execute_result"
    }
   ],
   "source": [
    "actual_values"
   ]
  },
  {
   "cell_type": "code",
   "execution_count": 16,
   "metadata": {},
   "outputs": [
    {
     "data": {
      "text/plain": [
       "0.050347291806280864"
      ]
     },
     "execution_count": 16,
     "metadata": {},
     "output_type": "execute_result"
    }
   ],
   "source": [
    "mape(actual_values,result)"
   ]
  },
  {
   "cell_type": "code",
   "execution_count": 17,
   "metadata": {},
   "outputs": [
    {
     "data": {
      "text/plain": [
       "0.10666342276294634"
      ]
     },
     "execution_count": 17,
     "metadata": {},
     "output_type": "execute_result"
    }
   ],
   "source": [
    "rmse = np.sqrt(np.mean(((result - actual_values) ** 2)))\n",
    "rmse"
   ]
  },
  {
   "cell_type": "code",
   "execution_count": 36,
   "metadata": {},
   "outputs": [],
   "source": [
    "result_forecast = pd.DataFrame(result)\n",
    "\n",
    "actual_df = pd.DataFrame(actual_values)\n"
   ]
  },
  {
   "cell_type": "code",
   "execution_count": 38,
   "metadata": {},
   "outputs": [
    {
     "data": {
      "image/png": "[encoded data removed]",
      "text/plain": [
       "<Figure size 1152x432 with 1 Axes>"
      ]
     },
     "metadata": {
      "needs_background": "light"
     },
     "output_type": "display_data"
    }
   ],
   "source": [
    "import matplotlib.pyplot as plt\n",
    "plt.figure(figsize=(16,6))\n",
    "plt.title('Forecasted Model - AAPL')\n",
    "plt.xlabel('Index', fontsize=18)\n",
    "plt.ylabel('Close Price ($)', fontsize=18)\n",
    "#plt.plot(train['Close'], 'b-', label = 'train')\n",
    "plt.plot(result_forecast,'r-', label = 'predict')\n",
    "plt.plot(actual_df,'b-', label = 'actual')\n",
    "#plt.legend(['Train', 'Val', 'Predictions'], loc='lower right')\n",
    "plt.show()"
   ]
  },
  {
   "cell_type": "code",
   "execution_count": null,
   "metadata": {},
   "outputs": [],
   "source": []
  },
  {
   "cell_type": "code",
   "execution_count": null,
   "metadata": {},
   "outputs": [],
   "source": []
  },
  {
   "cell_type": "code",
   "execution_count": null,
   "metadata": {},
   "outputs": [],
   "source": []
  },
  {
   "cell_type": "code",
   "execution_count": null,
   "metadata": {},
   "outputs": [],
   "source": []
  }
 ],
 "metadata": {
  "kernelspec": {
   "display_name": "Python 3",
   "language": "python",
   "name": "python3"
  },
  "language_info": {
   "codemirror_mode": {
    "name": "ipython",
    "version": 3
   },
   "file_extension": ".py",
   "mimetype": "text/x-python",
   "name": "python",
   "nbconvert_exporter": "python",
   "pygments_lexer": "ipython3",
   "version": "3.8.5"
  }
 },
 "nbformat": 4,
 "nbformat_minor": 4
}
